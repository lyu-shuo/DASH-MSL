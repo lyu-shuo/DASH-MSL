{
 "cells": [
  {
   "cell_type": "markdown",
   "source": [
    "beta = [0,2]    alpha = 0.333\n",
    "init_beta = 1\n",
    "mean_beta = 0.85\n",
    "\n",
    "without fisher:\n",
    "    acc : 85.52 --> 64.03\n",
    "    drop : 21.49\n",
    "\n",
    "with fisher:\n",
    "    acc : 85.52 --> 35.12\n",
    "    drop : 50.4"
   ],
   "metadata": {
    "collapsed": false
   }
  },
  {
   "cell_type": "code",
   "execution_count": 1,
   "outputs": [],
   "source": [
    "import matplotlib.pyplot as plt\n",
    "import torch\n",
    "import torch.nn as nn\n",
    "import torch.optim as optim\n",
    "import sys\n",
    "import numpy as np\n",
    "import pickle\n",
    "\n",
    "sys.path.append('D:\\\\Program\\\\MyCode\\\\Round_robin_SL\\\\Round-Robin')\n",
    "from models import *\n",
    "from clients_datasets import *\n",
    "from tqdm.notebook import tqdm\n",
    "from utils import *\n",
    "from AttFunc import *\n",
    "from Fisher_LeNet import *"
   ],
   "metadata": {
    "collapsed": false
   }
  },
  {
   "cell_type": "code",
   "execution_count": 2,
   "outputs": [
    {
     "name": "stdout",
     "output_type": "stream",
     "text": [
      "Files already downloaded and verified\n",
      "Subset 1: Class counts - [515, 510, 533, 487, 507, 519, 489, 459, 489, 492]\n",
      "Subset 2: Class counts - [481, 486, 505, 501, 461, 526, 503, 506, 501, 530]\n",
      "Subset 3: Class counts - [480, 486, 490, 538, 474, 523, 531, 498, 526, 454]\n",
      "Subset 4: Class counts - [525, 465, 501, 510, 550, 489, 491, 473, 471, 525]\n",
      "Subset 5: Class counts - [537, 501, 472, 517, 529, 481, 509, 494, 506, 454]\n",
      "Subset 6: Class counts - [462, 519, 498, 490, 535, 515, 471, 488, 501, 521]\n",
      "Subset 7: Class counts - [477, 499, 507, 473, 504, 474, 521, 551, 501, 493]\n",
      "Subset 8: Class counts - [494, 481, 506, 500, 501, 502, 495, 490, 518, 513]\n",
      "Subset 9: Class counts - [496, 540, 521, 484, 444, 462, 506, 520, 520, 507]\n",
      "Subset 10: Class counts - [533, 513, 467, 500, 495, 509, 484, 521, 467, 511]\n",
      "Files already downloaded and verified\n",
      "Subset 1: Class counts - [87, 100, 108, 107, 95, 95, 100, 102, 102, 104]\n",
      "Subset 2: Class counts - [107, 108, 100, 85, 95, 99, 116, 97, 99, 94]\n",
      "Subset 3: Class counts - [103, 90, 105, 92, 105, 103, 107, 91, 100, 104]\n",
      "Subset 4: Class counts - [100, 101, 113, 111, 100, 82, 114, 89, 100, 90]\n",
      "Subset 5: Class counts - [109, 113, 88, 103, 93, 101, 88, 107, 92, 106]\n",
      "Subset 6: Class counts - [92, 107, 104, 107, 102, 95, 97, 103, 98, 95]\n",
      "Subset 7: Class counts - [96, 100, 90, 105, 103, 91, 96, 111, 106, 102]\n",
      "Subset 8: Class counts - [108, 89, 87, 100, 107, 107, 101, 99, 88, 114]\n",
      "Subset 9: Class counts - [103, 95, 101, 101, 105, 115, 76, 102, 107, 95]\n",
      "Subset 10: Class counts - [95, 97, 104, 89, 95, 112, 105, 99, 108, 96]\n"
     ]
    }
   ],
   "source": [
    "batch_size = 600\n",
    "epochs = 30\n",
    "NC = 10\n",
    "dataset = 'cifar10'\n",
    "\n",
    "clients_trainloader = load_clients_trainsets(dataset, NC, batch_size)\n",
    "clients_testloader = load_clients_testsets(dataset, NC, batch_size)\n",
    "\n",
    "server, server_opt, clients, clients_opts = set_model_and_opt(dataset, NC)\n",
    "client_level = 1\n",
    "server_level = 6\n",
    "\n",
    "criterion = torch.nn.CrossEntropyLoss()"
   ],
   "metadata": {
    "collapsed": false
   }
  },
  {
   "cell_type": "code",
   "execution_count": 6,
   "outputs": [
    {
     "data": {
      "text/plain": "Normal Training:   0%|          | 0/30 [00:00<?, ?eopch/s]",
      "application/vnd.jupyter.widget-view+json": {
       "version_major": 2,
       "version_minor": 0,
       "model_id": "2c50835cf244414fbc4036677861ab45"
      }
     },
     "metadata": {},
     "output_type": "display_data"
    },
    {
     "data": {
      "text/plain": "  0%|          | 0/10 [00:00<?, ?it/s]",
      "application/vnd.jupyter.widget-view+json": {
       "version_major": 2,
       "version_minor": 0,
       "model_id": "996290eee59547649c11c738474701ab"
      }
     },
     "metadata": {},
     "output_type": "display_data"
    },
    {
     "name": "stdout",
     "output_type": "stream",
     "text": [
      "85.52000000000001\n"
     ]
    }
   ],
   "source": [
    "clients_acc0 = []\n",
    "#################################################################################\n",
    "###########################   Normal training   #################################\n",
    "# train\n",
    "server.train()\n",
    "for i in range(NC):\n",
    "    clients[i].train()\n",
    "server.apply(init_weights)\n",
    "clients[0].apply(init_weights)\n",
    "last_trained_params = clients[0].state_dict()\n",
    "for epoch in tqdm(range(epochs), desc=\"Normal Training\", unit=\"eopch\"):\n",
    "# for epoch in range(epochs):\n",
    "    for idx, client in enumerate(clients):\n",
    "        client.load_state_dict(last_trained_params)\n",
    "        for j, data in enumerate(clients_trainloader[idx]):\n",
    "            images, labels = data\n",
    "            images = images.cuda()\n",
    "            labels = labels.cuda()\n",
    "            smashed_data = client.forward(images, client_level=client_level)\n",
    "            output = server.forward(smashed_data, server_level=server_level)\n",
    "            clients_opts[idx].zero_grad()\n",
    "            server_opt.zero_grad()\n",
    "            loss = criterion(output, labels)\n",
    "            loss.backward()\n",
    "            clients_opts[idx].step()\n",
    "            server_opt.step()\n",
    "        last_trained_params = client.state_dict()\n",
    "for i in range(NC):\n",
    "    clients[i].load_state_dict(last_trained_params)\n",
    "# test\n",
    "server.eval()\n",
    "for i in range(NC):\n",
    "    clients[i].eval()\n",
    "with torch.no_grad():\n",
    "    for idx, client in enumerate(tqdm(clients)):\n",
    "        correct = 0\n",
    "        total = 0\n",
    "        acc0 = 0\n",
    "        for data in clients_testloader[idx]:\n",
    "            images, labels = data\n",
    "            images, labels = images.cuda(), labels.cuda()\n",
    "\n",
    "            smashed_data = client.forward(images, client_level=client_level)\n",
    "            output = server.forward(smashed_data, server_level=server_level)\n",
    "            _, pre = torch.max(output.data, 1)\n",
    "            total += images.shape[0]\n",
    "            correct += (pre == labels).sum().item()\n",
    "        acc0 = 100 * correct / total\n",
    "        clients_acc0.append(acc0)\n",
    "acc0 = np.mean(clients_acc0)\n",
    "print(acc0)"
   ],
   "metadata": {
    "collapsed": false
   }
  },
  {
   "cell_type": "code",
   "execution_count": 3,
   "outputs": [
    {
     "data": {
      "text/plain": "Training attack model:   0%|          | 0/100 [00:00<?, ?eopch/s]",
      "application/vnd.jupyter.widget-view+json": {
       "version_major": 2,
       "version_minor": 0,
       "model_id": "3948ad4643c64f8ca5d4396ae74ef701"
      }
     },
     "metadata": {},
     "output_type": "display_data"
    }
   ],
   "source": [
    "am = ResNet_9().cuda()\n",
    "am_train(am, clients_trainloader[8], dataset)\n",
    "fisher_matrix = {}\n",
    "for param_name, param in am.named_parameters():\n",
    "    if param_name == 'conv1.0.weight':\n",
    "        grad = param.grad.cpu().detach().numpy()\n",
    "        if param_name not in fisher_matrix:\n",
    "            fisher_matrix[param_name] = grad ** 2\n",
    "        else:\n",
    "            fisher_matrix[param_name] += grad ** 2\n",
    "    if param_name == 'conv1.0.bias':\n",
    "        grad = param.grad.cpu().detach().numpy()\n",
    "        if param_name not in fisher_matrix:\n",
    "            fisher_matrix[param_name] = grad ** 2\n",
    "        else:\n",
    "            fisher_matrix[param_name] += grad ** 2"
   ],
   "metadata": {
    "collapsed": false
   }
  },
  {
   "cell_type": "code",
   "execution_count": 4,
   "outputs": [
    {
     "name": "stdout",
     "output_type": "stream",
     "text": [
      "64.9\n"
     ]
    }
   ],
   "source": [
    "am_params = torch.load(f'../Round_robin_SL/Round-Robin/params/am_{dataset}_params.pth')\n",
    "am_acc0 = am_test(am, am_params, clients_testloader[8], 0)\n",
    "print(-am_acc0)"
   ],
   "metadata": {
    "collapsed": false
   }
  },
  {
   "cell_type": "code",
   "execution_count": 5,
   "outputs": [
    {
     "data": {
      "text/plain": "Finding beta:   0%|          | 0/10 [00:00<?, ?iter/s]",
      "application/vnd.jupyter.widget-view+json": {
       "version_major": 2,
       "version_minor": 0,
       "model_id": "c8849bb0c7014027af4550cd081be52d"
      }
     },
     "metadata": {},
     "output_type": "display_data"
    },
    {
     "name": "stdout",
     "output_type": "stream",
     "text": [
      "0.7521691175988757\n",
      "0.9541863840455063\n",
      "0.5624994921688379\n",
      "1.3830029336956007\n",
      "1.2021923389375215\n",
      "0.7169582311977346\n",
      "0.8057095079528475\n",
      "0.7765631941399591\n",
      "0.5566204668606384\n",
      "0.9789293410835386\n"
     ]
    }
   ],
   "source": [
    "att_type = 'unit'\n",
    "acc0 = 85.52\n",
    "betas = []\n",
    "\n",
    "for i in tqdm(range(10), desc=\"Finding beta\", unit=\"iter\"):\n",
    "    beta = simulated_annealing(dataset, 1, 500, att_type, acc0,  clients_testloader[8])\n",
    "    betas.append(beta)\n",
    "    print(beta)"
   ],
   "metadata": {
    "collapsed": false
   }
  },
  {
   "cell_type": "code",
   "execution_count": 6,
   "outputs": [
    {
     "name": "stdout",
     "output_type": "stream",
     "text": [
      "0.8535115089641454\n"
     ]
    }
   ],
   "source": [
    "beta_mean, beta_range = data_process(betas)\n",
    "print(beta_mean)"
   ],
   "metadata": {
    "collapsed": false
   }
  },
  {
   "cell_type": "markdown",
   "source": [
    "---------------------------------------------------------\n",
    "## without fisher"
   ],
   "metadata": {
    "collapsed": false
   }
  },
  {
   "cell_type": "code",
   "execution_count": 7,
   "outputs": [
    {
     "data": {
      "text/plain": "Training:   0%|          | 0/5 [00:00<?, ?iter/s]",
      "application/vnd.jupyter.widget-view+json": {
       "version_major": 2,
       "version_minor": 0,
       "model_id": "210e2566efa048c5aa8d5b13ca92a8eb"
      }
     },
     "metadata": {},
     "output_type": "display_data"
    },
    {
     "name": "stdout",
     "output_type": "stream",
     "text": [
      "Files already downloaded and verified\n",
      "Files already downloaded and verified\n",
      "Files already downloaded and verified\n",
      "Files already downloaded and verified\n",
      "Files already downloaded and verified\n",
      "Files already downloaded and verified\n",
      "Files already downloaded and verified\n",
      "Files already downloaded and verified\n",
      "Files already downloaded and verified\n",
      "Files already downloaded and verified\n"
     ]
    }
   ],
   "source": [
    "acc0 = 85.52\n",
    "att_type = 'unit'\n",
    "acc1_varying = []\n",
    "drop_varying = []\n",
    "clients_acc1 = []\n",
    "clients_drop = []\n",
    "iters = 5\n",
    "\n",
    "\n",
    "for iter in tqdm(range(iters), desc=\"Training\", unit=\"iter\"):\n",
    "    batch_size = 600\n",
    "    epochs = 30\n",
    "    NC = 10\n",
    "    dataset = 'cifar10'\n",
    "\n",
    "    clients_trainloader = load_clients_trainsets(dataset, NC, batch_size)\n",
    "    clients_testloader = load_clients_testsets(dataset, NC, batch_size)\n",
    "\n",
    "    server, server_opt, clients, clients_opts = set_model_and_opt(dataset, NC)\n",
    "    client_level = 1\n",
    "    server_level = 6\n",
    "\n",
    "    criterion = torch.nn.CrossEntropyLoss()\n",
    "    # train\n",
    "    mal_client_id = [8]\n",
    "    server.train()\n",
    "    for i in range(NC):\n",
    "        clients[i].train()\n",
    "    server.apply(init_weights)\n",
    "    clients[0].apply(init_weights)\n",
    "    last_trained_params = clients[0].state_dict()\n",
    "    for epoch in range(epochs):\n",
    "        beta = beta_mean\n",
    "        for idx, client in enumerate(clients):\n",
    "            client.load_state_dict(last_trained_params)\n",
    "            for j, data in enumerate(clients_trainloader[idx]):\n",
    "                # training part\n",
    "                images, labels = data\n",
    "                images = images.cuda()\n",
    "                labels = labels.cuda()\n",
    "                smashed_data = client.forward(images, client_level=client_level)\n",
    "                output = server.forward(smashed_data, server_level=server_level)\n",
    "                clients_opts[idx].zero_grad()\n",
    "                server_opt.zero_grad()\n",
    "                loss = criterion(output, labels)\n",
    "                loss.backward()\n",
    "                clients_opts[idx].step()\n",
    "                server_opt.step()\n",
    "            # weight sharing\n",
    "            last_trained_params = client.state_dict()\n",
    "            # attack part\n",
    "            if idx in mal_client_id :\n",
    "                benign_params = list(client.parameters())[:2]\n",
    "                mal_params = perturbation(beta=beta, bp=benign_params, type=att_type)\n",
    "                last_trained_params['conv1.0.weight'] = mal_params[0]\n",
    "                last_trained_params['conv1.0.bias'] = mal_params[1]\n",
    "    for i in range(NC):\n",
    "        clients[i].load_state_dict(last_trained_params)\n",
    "\n",
    "    # test\n",
    "    server.eval()\n",
    "    for i in range(NC):\n",
    "        clients[i].eval()\n",
    "    with torch.no_grad():\n",
    "        for idx, client in enumerate(clients):\n",
    "            correct = 0\n",
    "            total = 0\n",
    "            acc1 = 0\n",
    "            for data in clients_testloader[idx]:\n",
    "                images, labels = data\n",
    "                images, labels = images.cuda(), labels.cuda()\n",
    "\n",
    "                smashed_data = client.forward(images, client_level=client_level)\n",
    "                output = server.forward(smashed_data, server_level=server_level)\n",
    "                _, pre = torch.max(output.data, 1)\n",
    "                total += images.shape[0]\n",
    "                correct += (pre == labels).sum().item()\n",
    "            acc1 = 100 * correct / total\n",
    "            clients_acc1.append(acc1)\n",
    "            drop = acc0 - acc1\n",
    "            clients_drop.append(drop)\n",
    "    acc1 = np.mean(clients_acc1)\n",
    "    acc1_varying.append(acc1)\n",
    "    drop = np.mean(clients_drop)\n",
    "    drop_varying.append(drop)"
   ],
   "metadata": {
    "collapsed": false
   }
  },
  {
   "cell_type": "code",
   "execution_count": 9,
   "outputs": [
    {
     "name": "stdout",
     "output_type": "stream",
     "text": [
      "[77.68, 78.55000000000001, 79.38333333333331, 76.7225, 77.50200000000001]\n",
      "[7.839999999999998, 6.969999999999996, 6.136666666666664, 8.797499999999996, 8.017999999999997]\n",
      "[77.68, 78.55000000000001, 79.38333333333331, 76.7225, 77.50200000000001]\n",
      "77.96756666666667\n",
      "----------------------------------------------------\n",
      "[7.839999999999998, 6.969999999999996, 6.136666666666664, 8.797499999999996, 8.017999999999997]\n",
      "7.5524333333333304\n"
     ]
    }
   ],
   "source": [
    "print(acc1_varying)\n",
    "print(np.mean(acc1_varying))\n",
    "print('----------------------------------------------------')\n",
    "print(drop_varying)\n",
    "print(np.mean(drop_varying))"
   ],
   "metadata": {
    "collapsed": false
   }
  },
  {
   "cell_type": "code",
   "execution_count": 18,
   "outputs": [
    {
     "name": "stdout",
     "output_type": "stream",
     "text": [
      "acc1:\n",
      "64.03088888888888\n",
      "5.2933333333333294\n",
      "---------------------\n",
      "drop:\n",
      "21.489111111111104\n",
      "5.2933333333333294\n"
     ]
    }
   ],
   "source": [
    "acc1_mean, acc1_range = data_process(acc1_varying)\n",
    "print('acc1:')\n",
    "print(acc1_mean)\n",
    "print(acc1_range)\n",
    "print('---------------------')\n",
    "drop_mean, drop_range = data_process(drop_varying)\n",
    "print('drop:')\n",
    "print(drop_mean)\n",
    "print(drop_range)"
   ],
   "metadata": {
    "collapsed": false
   }
  },
  {
   "cell_type": "markdown",
   "source": [
    "-------------------------------------------\n",
    "## with fisher"
   ],
   "metadata": {
    "collapsed": false
   }
  },
  {
   "cell_type": "code",
   "execution_count": 10,
   "outputs": [],
   "source": [
    "weight_positions = []\n",
    "bias_positions = []\n",
    "weight_positions.append(find_positions(fisher_matrix['conv1.0.weight'], 0.333))\n",
    "bias_positions.append(find_positions(fisher_matrix['conv1.0.bias'], 0.333))"
   ],
   "metadata": {
    "collapsed": false
   }
  },
  {
   "cell_type": "code",
   "execution_count": 11,
   "outputs": [
    {
     "data": {
      "text/plain": "Training:   0%|          | 0/5 [00:00<?, ?iter/s]",
      "application/vnd.jupyter.widget-view+json": {
       "version_major": 2,
       "version_minor": 0,
       "model_id": "07ca0124145f4ee69c8a81878cf3d2eb"
      }
     },
     "metadata": {},
     "output_type": "display_data"
    },
    {
     "name": "stdout",
     "output_type": "stream",
     "text": [
      "Files already downloaded and verified\n",
      "Files already downloaded and verified\n",
      "Files already downloaded and verified\n",
      "Files already downloaded and verified\n",
      "Files already downloaded and verified\n",
      "Files already downloaded and verified\n",
      "Files already downloaded and verified\n",
      "Files already downloaded and verified\n",
      "Files already downloaded and verified\n",
      "Files already downloaded and verified\n"
     ]
    }
   ],
   "source": [
    "acc0 = 85.52\n",
    "att_type = 'unit'\n",
    "acc1_varying = []\n",
    "drop_varying = []\n",
    "clients_acc1 = []\n",
    "clients_drop = []\n",
    "iters = 5\n",
    "\n",
    "\n",
    "for iter in tqdm(range(iters), desc=\"Training\", unit=\"iter\"):\n",
    "    batch_size = 600\n",
    "    epochs = 30\n",
    "    NC = 10\n",
    "    dataset = 'cifar10'\n",
    "\n",
    "    clients_trainloader = load_clients_trainsets(dataset, NC, batch_size)\n",
    "    clients_testloader = load_clients_testsets(dataset, NC, batch_size)\n",
    "\n",
    "    server, server_opt, clients, clients_opts = set_model_and_opt(dataset, NC)\n",
    "    client_level = 1\n",
    "    server_level = 6\n",
    "\n",
    "    criterion = torch.nn.CrossEntropyLoss()\n",
    "    # train\n",
    "    mal_client_id = [8]\n",
    "    server.train()\n",
    "    for i in range(NC):\n",
    "        clients[i].train()\n",
    "    server.apply(init_weights)\n",
    "    clients[0].apply(init_weights)\n",
    "    last_trained_params = clients[0].state_dict()\n",
    "    for epoch in range(epochs):\n",
    "        beta = beta_mean\n",
    "        for idx, client in enumerate(clients):\n",
    "            client.load_state_dict(last_trained_params)\n",
    "            for j, data in enumerate(clients_trainloader[idx]):\n",
    "                # training part\n",
    "                images, labels = data\n",
    "                images = images.cuda()\n",
    "                labels = labels.cuda()\n",
    "                smashed_data = client.forward(images, client_level=client_level)\n",
    "                output = server.forward(smashed_data, server_level=server_level)\n",
    "                clients_opts[idx].zero_grad()\n",
    "                server_opt.zero_grad()\n",
    "                loss = criterion(output, labels)\n",
    "                loss.backward()\n",
    "                clients_opts[idx].step()\n",
    "                server_opt.step()\n",
    "            # weight sharing\n",
    "            last_trained_params = client.state_dict()\n",
    "            # attack part\n",
    "            if idx in mal_client_id :\n",
    "                benign_params = list(client.parameters())[:2]\n",
    "                mal_params = fisher_perturbation(client_level, beta, benign_params, weight_positions, bias_positions, type=att_type)\n",
    "                last_trained_params['conv1.0.weight'] = mal_params[0]\n",
    "                last_trained_params['conv1.0.bias'] = mal_params[1]\n",
    "    for i in range(NC):\n",
    "        clients[i].load_state_dict(last_trained_params)\n",
    "\n",
    "    # test\n",
    "    server.eval()\n",
    "    for i in range(NC):\n",
    "        clients[i].eval()\n",
    "    with torch.no_grad():\n",
    "        for idx, client in enumerate(clients):\n",
    "            correct = 0\n",
    "            total = 0\n",
    "            acc1 = 0\n",
    "            for data in clients_testloader[idx]:\n",
    "                images, labels = data\n",
    "                images, labels = images.cuda(), labels.cuda()\n",
    "\n",
    "                smashed_data = client.forward(images, client_level=client_level)\n",
    "                output = server.forward(smashed_data, server_level=server_level)\n",
    "                _, pre = torch.max(output.data, 1)\n",
    "                total += images.shape[0]\n",
    "                correct += (pre == labels).sum().item()\n",
    "            acc1 = 100 * correct / total\n",
    "            clients_acc1.append(acc1)\n",
    "            drop = acc0 - acc1\n",
    "            clients_drop.append(drop)\n",
    "    acc1 = np.mean(clients_acc1)\n",
    "    acc1_varying.append(acc1)\n",
    "    drop = np.mean(clients_drop)\n",
    "    drop_varying.append(drop)"
   ],
   "metadata": {
    "collapsed": false
   }
  },
  {
   "cell_type": "code",
   "execution_count": 13,
   "outputs": [
    {
     "name": "stdout",
     "output_type": "stream",
     "text": [
      "[10.000000000000002, 10.0, 35.120000000000005, 47.68249999999999, 55.275999999999996]\n",
      "[75.51999999999998, 75.52, 50.4, 37.8375, 30.243999999999996]\n"
     ]
    }
   ],
   "source": [
    "print(acc1_varying)\n",
    "print(drop_varying)"
   ],
   "metadata": {
    "collapsed": false
   }
  },
  {
   "cell_type": "code",
   "execution_count": 12,
   "outputs": [
    {
     "name": "stdout",
     "output_type": "stream",
     "text": [
      "acc1:\n",
      "35.120000000000005\n",
      "0.0\n",
      "---------------------\n",
      "drop:\n",
      "50.4\n",
      "0.0\n"
     ]
    }
   ],
   "source": [
    "acc1_mean, acc1_range = data_process(acc1_varying)\n",
    "print('acc1:')\n",
    "print(acc1_mean)\n",
    "print(acc1_range)\n",
    "print('---------------------')\n",
    "drop_mean, drop_range = data_process(drop_varying)\n",
    "print('drop:')\n",
    "print(drop_mean)\n",
    "print(drop_range)"
   ],
   "metadata": {
    "collapsed": false
   }
  },
  {
   "cell_type": "code",
   "execution_count": null,
   "outputs": [],
   "source": [],
   "metadata": {
    "collapsed": false
   }
  }
 ],
 "metadata": {
  "kernelspec": {
   "display_name": "Python 3",
   "language": "python",
   "name": "python3"
  },
  "language_info": {
   "codemirror_mode": {
    "name": "ipython",
    "version": 2
   },
   "file_extension": ".py",
   "mimetype": "text/x-python",
   "name": "python",
   "nbconvert_exporter": "python",
   "pygments_lexer": "ipython2",
   "version": "2.7.6"
  }
 },
 "nbformat": 4,
 "nbformat_minor": 0
}
