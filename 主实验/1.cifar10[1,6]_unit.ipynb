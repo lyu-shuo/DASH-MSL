{
 "cells": [
  {
   "cell_type": "markdown",
   "source": [
    "beta = [0,2]    alpha = 0.333\n",
    "init_beta = 1\n",
    "mean_beta = 0.85\n",
    "\n",
    "without Taylor:\n",
    "    acc : 85.52 --> 64.03\n",
    "    drop : 21.49\n",
    "\n",
    "with Taylor:\n",
    "    acc : 85.52 --> 81.36\n",
    "    drop : 4.15\n",
    "    drop : 4.15"
   ],
   "metadata": {
    "collapsed": false
   }
  },
  {
   "cell_type": "code",
   "execution_count": 1,
   "outputs": [],
   "source": [
    "import matplotlib.pyplot as plt\n",
    "import torch\n",
    "import torch.nn as nn\n",
    "import torch.optim as optim\n",
    "import sys\n",
    "import numpy as np\n",
    "import pickle\n",
    "\n",
    "sys.path.append('D:\\\\Program\\\\MyCode\\\\Round_robin_SL\\\\Round-Robin')\n",
    "from models import *\n",
    "from clients_datasets import *\n",
    "from tqdm.notebook import tqdm\n",
    "from utils import *\n",
    "from AttFunc import *\n",
    "from Fisher_LeNet import *"
   ],
   "metadata": {
    "collapsed": false
   }
  },
  {
   "cell_type": "code",
   "execution_count": 2,
   "outputs": [
    {
     "name": "stdout",
     "output_type": "stream",
     "text": [
      "Files already downloaded and verified\n",
      "Files already downloaded and verified\n"
     ]
    }
   ],
   "source": [
    "batch_size = 600\n",
    "epochs = 30\n",
    "NC = 10\n",
    "dataset = 'cifar10'\n",
    "\n",
    "clients_trainloader = load_clients_trainsets(dataset, NC, batch_size)\n",
    "clients_testloader = load_clients_testsets(dataset, NC, batch_size)\n",
    "\n",
    "server, server_opt, clients, clients_opts = set_model_and_opt(dataset, NC)\n",
    "client_level = 1\n",
    "server_level = 6\n",
    "\n",
    "criterion = torch.nn.CrossEntropyLoss()"
   ],
   "metadata": {
    "collapsed": false
   }
  },
  {
   "cell_type": "code",
   "execution_count": 3,
   "outputs": [
    {
     "data": {
      "text/plain": "Finding beta:   0%|          | 0/10 [00:00<?, ?iter/s]",
      "application/vnd.jupyter.widget-view+json": {
       "version_major": 2,
       "version_minor": 0,
       "model_id": "a6711e4f6f62433d8440face9e51c9b9"
      }
     },
     "metadata": {},
     "output_type": "display_data"
    },
    {
     "name": "stdout",
     "output_type": "stream",
     "text": [
      "0.6152016687416832\n",
      "1.1331205772077777\n",
      "1.046678474243853\n",
      "0.6591705511268129\n",
      "0.6957747441323077\n",
      "1.3240085443307015\n",
      "1.0050902564594835\n",
      "0.9844813578862919\n",
      "0.9160924717031431\n",
      "0.6629480368339603\n"
     ]
    }
   ],
   "source": [
    "am = ResNet_9().cuda()\n",
    "# am_train(am, clients_trainloader[8], dataset)\n",
    "\n",
    "att_type = 'unit'\n",
    "acc0 = 85.52\n",
    "betas = []\n",
    "\n",
    "for i in tqdm(range(10), desc=\"Finding beta\", unit=\"iter\"):\n",
    "    beta = simulated_annealing(dataset, 1, 500, att_type, acc0,  clients_testloader[8])\n",
    "    betas.append(beta)\n",
    "    print(beta)"
   ],
   "metadata": {
    "collapsed": false
   }
  },
  {
   "cell_type": "code",
   "execution_count": 4,
   "outputs": [
    {
     "name": "stdout",
     "output_type": "stream",
     "text": [
      "0.9685546953496394\n"
     ]
    }
   ],
   "source": [
    "beta_mean, beta_range = data_process(betas)\n",
    "print(beta_mean)"
   ],
   "metadata": {
    "collapsed": false
   }
  },
  {
   "cell_type": "markdown",
   "source": [
    "## WITH Taylor"
   ],
   "metadata": {
    "collapsed": false
   }
  },
  {
   "cell_type": "code",
   "execution_count": 5,
   "outputs": [
    {
     "data": {
      "text/plain": "Training:   0%|          | 0/5 [00:00<?, ?iter/s]",
      "application/vnd.jupyter.widget-view+json": {
       "version_major": 2,
       "version_minor": 0,
       "model_id": "923429ee025a4feeb4820f4bcba49990"
      }
     },
     "metadata": {},
     "output_type": "display_data"
    },
    {
     "name": "stdout",
     "output_type": "stream",
     "text": [
      "Files already downloaded and verified\n",
      "Files already downloaded and verified\n",
      "Files already downloaded and verified\n",
      "Files already downloaded and verified\n",
      "Files already downloaded and verified\n",
      "Files already downloaded and verified\n",
      "Files already downloaded and verified\n",
      "Files already downloaded and verified\n",
      "Files already downloaded and verified\n",
      "Files already downloaded and verified\n"
     ]
    }
   ],
   "source": [
    "acc0 = 85.52\n",
    "att_type = 'unit'\n",
    "acc1_varying = []\n",
    "drop_varying = []\n",
    "clients_acc1 = []\n",
    "clients_drop = []\n",
    "iters = 5\n",
    "\n",
    "\n",
    "for iter in tqdm(range(iters), desc=\"Training\", unit=\"iter\"):\n",
    "    batch_size = 600\n",
    "    epochs = 30\n",
    "    NC = 10\n",
    "    dataset = 'cifar10'\n",
    "\n",
    "    clients_trainloader = load_clients_trainsets(dataset, NC, batch_size)\n",
    "    clients_testloader = load_clients_testsets(dataset, NC, batch_size)\n",
    "\n",
    "    server, server_opt, clients, clients_opts = set_model_and_opt(dataset, NC)\n",
    "    client_level = 1\n",
    "    server_level = 6\n",
    "\n",
    "    criterion = torch.nn.CrossEntropyLoss()\n",
    "    # train\n",
    "    mal_client_id = [8]\n",
    "    server.train()\n",
    "    for i in range(NC):\n",
    "        clients[i].train()\n",
    "    server.apply(init_weights)\n",
    "    clients[0].apply(init_weights)\n",
    "    last_trained_params = clients[0].state_dict()\n",
    "    for epoch in range(epochs):\n",
    "        beta = beta_mean\n",
    "        for idx, client in enumerate(clients):\n",
    "            client.load_state_dict(last_trained_params)\n",
    "            for j, data in enumerate(clients_trainloader[idx]):\n",
    "                # training part\n",
    "                images, labels = data\n",
    "                images = images.cuda()\n",
    "                labels = labels.cuda()\n",
    "                smashed_data = client.forward(images, client_level=client_level)\n",
    "                output = server.forward(smashed_data, server_level=server_level)\n",
    "                clients_opts[idx].zero_grad()\n",
    "                server_opt.zero_grad()\n",
    "                loss = criterion(output, labels)\n",
    "                loss.backward()\n",
    "                clients_opts[idx].step()\n",
    "                server_opt.step()\n",
    "            # weight sharing\n",
    "            last_trained_params = client.state_dict()\n",
    "            # attack part\n",
    "            if idx in mal_client_id:\n",
    "                benign_params = list(client.parameters())[:2]\n",
    "\n",
    "                # Taylor 重要性评分计算\n",
    "                Taylor_scores = {}\n",
    "                for param_name, param in client.named_parameters():\n",
    "                    if param.grad is not None:\n",
    "                        Taylor_scores[param_name] = torch.abs(param * param.grad)\n",
    "\n",
    "                weight_positions = []\n",
    "                bias_positions = []\n",
    "                weight_positions.append(find_positions(Taylor_scores['conv1.0.weight'].cpu().detach().numpy(), 0.333))\n",
    "                bias_positions.append(find_positions(Taylor_scores['conv1.0.bias'].cpu().detach().numpy(), 0.333))\n",
    "\n",
    "                mal_params = fisher_perturbation(client_level, beta, benign_params, weight_positions, bias_positions, type=att_type)\n",
    "                last_trained_params['conv1.0.weight'] = mal_params[0]\n",
    "                last_trained_params['conv1.0.bias'] = mal_params[1]\n",
    "    for i in range(NC):\n",
    "        clients[i].load_state_dict(last_trained_params)\n",
    "\n",
    "    # test\n",
    "    server.eval()\n",
    "    for i in range(NC):\n",
    "        clients[i].eval()\n",
    "    with torch.no_grad():\n",
    "        for idx, client in enumerate(clients):\n",
    "            correct = 0\n",
    "            total = 0\n",
    "            acc1 = 0\n",
    "            for data in clients_testloader[idx]:\n",
    "                images, labels = data\n",
    "                images, labels = images.cuda(), labels.cuda()\n",
    "\n",
    "                smashed_data = client.forward(images, client_level=client_level)\n",
    "                output = server.forward(smashed_data, server_level=server_level)\n",
    "                _, pre = torch.max(output.data, 1)\n",
    "                total += images.shape[0]\n",
    "                correct += (pre == labels).sum().item()\n",
    "            acc1 = 100 * correct / total\n",
    "            clients_acc1.append(acc1)\n",
    "            drop = acc0 - acc1\n",
    "            clients_drop.append(drop)\n",
    "    acc1 = np.mean(clients_acc1)\n",
    "    acc1_varying.append(acc1)\n",
    "    drop = np.mean(clients_drop)\n",
    "    drop_varying.append(drop)"
   ],
   "metadata": {
    "collapsed": false
   }
  },
  {
   "cell_type": "code",
   "execution_count": 6,
   "outputs": [
    {
     "name": "stdout",
     "output_type": "stream",
     "text": [
      "[85.60999999999999, 78.475, 80.58666666666667, 81.2625, 82.23199999999999]\n",
      "[-0.09000000000000483, 7.044999999999996, 4.933333333333332, 4.257499999999996, 3.2879999999999967]\n"
     ]
    }
   ],
   "source": [
    "print(acc1_varying)\n",
    "print(drop_varying)"
   ],
   "metadata": {
    "collapsed": false
   }
  },
  {
   "cell_type": "code",
   "execution_count": 7,
   "outputs": [
    {
     "name": "stdout",
     "output_type": "stream",
     "text": [
      "acc1:\n",
      "81.36038888888889\n",
      "1.645333333333312\n",
      "---------------------\n",
      "drop:\n",
      "4.159611111111108\n",
      "1.645333333333335\n"
     ]
    }
   ],
   "source": [
    "acc1_mean, acc1_range = data_process(acc1_varying)\n",
    "print('acc1:')\n",
    "print(acc1_mean)\n",
    "print(acc1_range)\n",
    "print('---------------------')\n",
    "drop_mean, drop_range = data_process(drop_varying)\n",
    "print('drop:')\n",
    "print(drop_mean)\n",
    "print(drop_range)"
   ],
   "metadata": {
    "collapsed": false
   }
  },
  {
   "cell_type": "code",
   "execution_count": 7,
   "outputs": [],
   "source": [],
   "metadata": {
    "collapsed": false
   }
  }
 ],
 "metadata": {
  "kernelspec": {
   "display_name": "Python 3",
   "language": "python",
   "name": "python3"
  },
  "language_info": {
   "codemirror_mode": {
    "name": "ipython",
    "version": 2
   },
   "file_extension": ".py",
   "mimetype": "text/x-python",
   "name": "python",
   "nbconvert_exporter": "python",
   "pygments_lexer": "ipython2",
   "version": "2.7.6"
  }
 },
 "nbformat": 4,
 "nbformat_minor": 0
}
