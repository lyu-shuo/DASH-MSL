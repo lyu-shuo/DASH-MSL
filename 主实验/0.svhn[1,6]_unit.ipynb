{
 "cells": [
  {
   "cell_type": "markdown",
   "source": [
    "## unit fisher\n",
    "beta = [0,2]    alpha = 0.333\n",
    "init_beta = 1\n",
    "beta_mean = 0.91\n",
    "\n",
    "without fisher :\n",
    "    acc : 95.48---93.47\n",
    "    drop : 2.01\n",
    "with fisher :\n",
    "    acc : 95.48---58.23\n",
    "    drop : 37.24"
   ],
   "metadata": {
    "collapsed": false
   }
  },
  {
   "cell_type": "code",
   "execution_count": 1,
   "outputs": [],
   "source": [
    "import matplotlib.pyplot as plt\n",
    "import torch\n",
    "import torch.nn as nn\n",
    "import torch.optim as optim\n",
    "import sys\n",
    "import numpy as np\n",
    "import pickle\n",
    "\n",
    "sys.path.append('D:\\\\Program\\\\MyCode\\\\Round_robin_SL\\\\Round-Robin')\n",
    "from models import *\n",
    "from clients_datasets import *\n",
    "from tqdm.notebook import tqdm\n",
    "from utils import *\n",
    "from AttFunc import *\n",
    "from Fisher_LeNet import *"
   ],
   "metadata": {
    "collapsed": false
   }
  },
  {
   "cell_type": "code",
   "execution_count": 2,
   "outputs": [
    {
     "name": "stdout",
     "output_type": "stream",
     "text": [
      "Using downloaded and verified file: data/train_32x32.mat\n",
      "Using downloaded and verified file: data/test_32x32.mat\n"
     ]
    }
   ],
   "source": [
    "batch_size = 600\n",
    "epochs = 30\n",
    "NC = 10\n",
    "dataset = 'svhn'\n",
    "\n",
    "clients_trainloader = load_clients_trainsets(dataset, NC, batch_size)\n",
    "clients_testloader = load_clients_testsets(dataset, NC, batch_size)\n",
    "\n",
    "server, server_opt, clients, clients_opts = set_model_and_opt(dataset, NC)\n",
    "client_level = 1\n",
    "server_level = 6\n",
    "\n",
    "criterion = torch.nn.CrossEntropyLoss()"
   ],
   "metadata": {
    "collapsed": false
   }
  },
  {
   "cell_type": "code",
   "execution_count": 3,
   "outputs": [
    {
     "name": "stdout",
     "output_type": "stream",
     "text": [
      "Parameter name: conv1.0.weight, Parameter size: torch.Size([64, 3, 3, 3])\n",
      "Parameter name: conv1.0.bias, Parameter size: torch.Size([64])\n",
      "Parameter name: conv1.1.weight, Parameter size: torch.Size([64])\n",
      "Parameter name: conv1.1.bias, Parameter size: torch.Size([64])\n",
      "Parameter name: conv2.0.weight, Parameter size: torch.Size([128, 64, 3, 3])\n",
      "Parameter name: conv2.0.bias, Parameter size: torch.Size([128])\n",
      "Parameter name: conv2.1.weight, Parameter size: torch.Size([128])\n",
      "Parameter name: conv2.1.bias, Parameter size: torch.Size([128])\n",
      "Parameter name: res1.0.weight, Parameter size: torch.Size([128, 128, 3, 3])\n",
      "Parameter name: res1.0.bias, Parameter size: torch.Size([128])\n",
      "Parameter name: res1.1.weight, Parameter size: torch.Size([128])\n",
      "Parameter name: res1.1.bias, Parameter size: torch.Size([128])\n",
      "Parameter name: res1.3.weight, Parameter size: torch.Size([128, 128, 3, 3])\n",
      "Parameter name: res1.3.bias, Parameter size: torch.Size([128])\n",
      "Parameter name: res1.4.weight, Parameter size: torch.Size([128])\n",
      "Parameter name: res1.4.bias, Parameter size: torch.Size([128])\n",
      "Parameter name: conv3.0.weight, Parameter size: torch.Size([256, 128, 3, 3])\n",
      "Parameter name: conv3.0.bias, Parameter size: torch.Size([256])\n",
      "Parameter name: conv3.1.weight, Parameter size: torch.Size([256])\n",
      "Parameter name: conv3.1.bias, Parameter size: torch.Size([256])\n",
      "Parameter name: conv4.0.weight, Parameter size: torch.Size([512, 256, 3, 3])\n",
      "Parameter name: conv4.0.bias, Parameter size: torch.Size([512])\n",
      "Parameter name: conv4.1.weight, Parameter size: torch.Size([512])\n",
      "Parameter name: conv4.1.bias, Parameter size: torch.Size([512])\n",
      "Parameter name: res2.0.weight, Parameter size: torch.Size([512, 512, 3, 3])\n",
      "Parameter name: res2.0.bias, Parameter size: torch.Size([512])\n",
      "Parameter name: res2.1.weight, Parameter size: torch.Size([512])\n",
      "Parameter name: res2.1.bias, Parameter size: torch.Size([512])\n",
      "Parameter name: res2.3.weight, Parameter size: torch.Size([512, 512, 3, 3])\n",
      "Parameter name: res2.3.bias, Parameter size: torch.Size([512])\n",
      "Parameter name: res2.4.weight, Parameter size: torch.Size([512])\n",
      "Parameter name: res2.4.bias, Parameter size: torch.Size([512])\n",
      "Parameter name: fc.2.weight, Parameter size: torch.Size([10, 512])\n",
      "Parameter name: fc.2.bias, Parameter size: torch.Size([10])\n"
     ]
    }
   ],
   "source": [
    "for name, param in server.named_parameters():\n",
    "    print(f\"Parameter name: {name}, Parameter size: {param.size()}\")"
   ],
   "metadata": {
    "collapsed": false
   }
  },
  {
   "cell_type": "code",
   "execution_count": 3,
   "outputs": [
    {
     "data": {
      "text/plain": "Normal Training:   0%|          | 0/30 [00:00<?, ?eopch/s]",
      "application/vnd.jupyter.widget-view+json": {
       "version_major": 2,
       "version_minor": 0,
       "model_id": "23e8da9d4fdd4532afe3758d084e23a2"
      }
     },
     "metadata": {},
     "output_type": "display_data"
    },
    {
     "data": {
      "text/plain": "  0%|          | 0/10 [00:00<?, ?it/s]",
      "application/vnd.jupyter.widget-view+json": {
       "version_major": 2,
       "version_minor": 0,
       "model_id": "e9fb222560db40bdbf42faa0f27f797f"
      }
     },
     "metadata": {},
     "output_type": "display_data"
    },
    {
     "name": "stdout",
     "output_type": "stream",
     "text": [
      "95.47863064772834\n"
     ]
    }
   ],
   "source": [
    "clients_acc0 = []\n",
    "#################################################################################\n",
    "###########################   Normal training   #################################\n",
    "# train\n",
    "server.train()\n",
    "for i in range(NC):\n",
    "    clients[i].train()\n",
    "server.apply(init_weights)\n",
    "clients[0].apply(init_weights)\n",
    "last_trained_params = clients[0].state_dict()\n",
    "for epoch in tqdm(range(epochs), desc=\"Normal Training\", unit=\"eopch\"):\n",
    "# for epoch in range(epochs):\n",
    "    for idx, client in enumerate(clients):\n",
    "        client.load_state_dict(last_trained_params)\n",
    "        for j, data in enumerate(clients_trainloader[idx]):\n",
    "            images, labels = data\n",
    "            images = images.cuda()\n",
    "            labels = labels.cuda()\n",
    "            smashed_data = client.forward(images, client_level=client_level)\n",
    "            output = server.forward(smashed_data, server_level=server_level)\n",
    "            clients_opts[idx].zero_grad()\n",
    "            server_opt.zero_grad()\n",
    "            loss = criterion(output, labels)\n",
    "            loss.backward()\n",
    "            clients_opts[idx].step()\n",
    "            server_opt.step()\n",
    "        last_trained_params = client.state_dict()\n",
    "for i in range(NC):\n",
    "    clients[i].load_state_dict(last_trained_params)\n",
    "# test\n",
    "server.eval()\n",
    "for i in range(NC):\n",
    "    clients[i].eval()\n",
    "with torch.no_grad():\n",
    "    for idx, client in enumerate(tqdm(clients)):\n",
    "        correct = 0\n",
    "        total = 0\n",
    "        acc0 = 0\n",
    "        for data in clients_testloader[idx]:\n",
    "            images, labels = data\n",
    "            images, labels = images.cuda(), labels.cuda()\n",
    "\n",
    "            smashed_data = client.forward(images, client_level=client_level)\n",
    "            output = server.forward(smashed_data, server_level=server_level)\n",
    "            _, pre = torch.max(output.data, 1)\n",
    "            total += images.shape[0]\n",
    "            correct += (pre == labels).sum().item()\n",
    "        acc0 = 100 * correct / total\n",
    "        clients_acc0.append(acc0)\n",
    "acc0 = np.mean(clients_acc0)\n",
    "print(acc0)"
   ],
   "metadata": {
    "collapsed": false
   }
  },
  {
   "cell_type": "code",
   "execution_count": 4,
   "outputs": [
    {
     "data": {
      "text/plain": "Training attack model:   0%|          | 0/100 [00:00<?, ?eopch/s]",
      "application/vnd.jupyter.widget-view+json": {
       "version_major": 2,
       "version_minor": 0,
       "model_id": "b77f1520776b4da781557bb2de35a227"
      }
     },
     "metadata": {},
     "output_type": "display_data"
    }
   ],
   "source": [
    "am = ResNet_9().cuda()\n",
    "am_train(am, clients_trainloader[8], dataset)\n",
    "fisher_matrix = {}\n",
    "for param_name, param in am.named_parameters():\n",
    "    if param_name == 'conv1.0.weight':\n",
    "        grad = param.grad.cpu().detach().numpy()\n",
    "        if param_name not in fisher_matrix:\n",
    "            fisher_matrix[param_name] = grad ** 2\n",
    "        else:\n",
    "            fisher_matrix[param_name] += grad ** 2\n",
    "    if param_name == 'conv1.0.bias':\n",
    "        grad = param.grad.cpu().detach().numpy()\n",
    "        if param_name not in fisher_matrix:\n",
    "            fisher_matrix[param_name] = grad ** 2\n",
    "        else:\n",
    "            fisher_matrix[param_name] += grad ** 2"
   ],
   "metadata": {
    "collapsed": false
   }
  },
  {
   "cell_type": "code",
   "execution_count": 5,
   "outputs": [
    {
     "name": "stdout",
     "output_type": "stream",
     "text": [
      "90.62620053784096\n"
     ]
    }
   ],
   "source": [
    "am_params = torch.load('../Round_robin_SL/Round-Robin/params/am_svhn_params.pth')\n",
    "am_acc0 = am_test(am, am_params, clients_testloader[8], 0)\n",
    "print(-am_acc0)"
   ],
   "metadata": {
    "collapsed": false
   }
  },
  {
   "cell_type": "code",
   "execution_count": 6,
   "outputs": [
    {
     "data": {
      "text/plain": "Finding beta:   0%|          | 0/10 [00:00<?, ?iter/s]",
      "application/vnd.jupyter.widget-view+json": {
       "version_major": 2,
       "version_minor": 0,
       "model_id": "1073e5cc87eb421291f399197603adbc"
      }
     },
     "metadata": {},
     "output_type": "display_data"
    },
    {
     "name": "stdout",
     "output_type": "stream",
     "text": [
      "0.5402048645906912\n",
      "0.9147156960660681\n",
      "1.4169588898217909\n",
      "0.8116515774045837\n",
      "1.0495300645230783\n",
      "0.7150690074701289\n",
      "0.8816934881672096\n",
      "1.605457927265741\n",
      "0.5480967928897891\n",
      "0.4930106289167863\n"
     ]
    }
   ],
   "source": [
    "att_type = 'unit'\n",
    "acc0 = 95.48\n",
    "betas = []\n",
    "\n",
    "for i in tqdm(range(10), desc=\"Finding beta\", unit=\"iter\"):\n",
    "    beta = simulated_annealing(dataset, 1, 500, att_type, acc0,  clients_testloader[8])\n",
    "    betas.append(beta)\n",
    "    print(beta)"
   ],
   "metadata": {
    "collapsed": false
   }
  },
  {
   "cell_type": "code",
   "execution_count": 7,
   "outputs": [
    {
     "name": "stdout",
     "output_type": "stream",
     "text": [
      "0.9143977065402349\n"
     ]
    }
   ],
   "source": [
    "beta_mean, beta_range = data_process(betas)\n",
    "print(beta_mean)"
   ],
   "metadata": {
    "collapsed": false
   }
  },
  {
   "cell_type": "markdown",
   "source": [
    "---------------------------------------------------------\n",
    "## without fisher"
   ],
   "metadata": {
    "collapsed": false
   }
  },
  {
   "cell_type": "code",
   "execution_count": 8,
   "outputs": [
    {
     "data": {
      "text/plain": "Training:   0%|          | 0/5 [00:00<?, ?iter/s]",
      "application/vnd.jupyter.widget-view+json": {
       "version_major": 2,
       "version_minor": 0,
       "model_id": "c1af26eecc7241bbb55072ac3f5c7cf2"
      }
     },
     "metadata": {},
     "output_type": "display_data"
    },
    {
     "name": "stdout",
     "output_type": "stream",
     "text": [
      "Using downloaded and verified file: data/train_32x32.mat\n",
      "Using downloaded and verified file: data/test_32x32.mat\n",
      "Using downloaded and verified file: data/train_32x32.mat\n",
      "Using downloaded and verified file: data/test_32x32.mat\n",
      "Using downloaded and verified file: data/train_32x32.mat\n",
      "Using downloaded and verified file: data/test_32x32.mat\n",
      "Using downloaded and verified file: data/train_32x32.mat\n",
      "Using downloaded and verified file: data/test_32x32.mat\n",
      "Using downloaded and verified file: data/train_32x32.mat\n",
      "Using downloaded and verified file: data/test_32x32.mat\n"
     ]
    }
   ],
   "source": [
    "acc0 = 95.48\n",
    "att_type = 'unit'\n",
    "acc1_varying = []\n",
    "drop_varying = []\n",
    "clients_acc1 = []\n",
    "clients_drop = []\n",
    "iters = 5\n",
    "\n",
    "\n",
    "for iter in tqdm(range(iters), desc=\"Training\", unit=\"iter\"):\n",
    "    batch_size = 600\n",
    "    epochs = 30\n",
    "    NC = 10\n",
    "    dataset = 'svhn'\n",
    "\n",
    "    clients_trainloader = load_clients_trainsets(dataset, NC, batch_size)\n",
    "    clients_testloader = load_clients_testsets(dataset, NC, batch_size)\n",
    "\n",
    "    server, server_opt, clients, clients_opts = set_model_and_opt(dataset, NC)\n",
    "    client_level = 1\n",
    "    server_level = 6\n",
    "\n",
    "    criterion = torch.nn.CrossEntropyLoss()\n",
    "    # train\n",
    "    mal_client_id = [8]\n",
    "    server.train()\n",
    "    for i in range(NC):\n",
    "        clients[i].train()\n",
    "    server.apply(init_weights)\n",
    "    clients[0].apply(init_weights)\n",
    "    last_trained_params = clients[0].state_dict()\n",
    "    for epoch in range(epochs):\n",
    "        beta = beta_mean\n",
    "        for idx, client in enumerate(clients):\n",
    "            client.load_state_dict(last_trained_params)\n",
    "            for j, data in enumerate(clients_trainloader[idx]):\n",
    "                # training part\n",
    "                images, labels = data\n",
    "                images = images.cuda()\n",
    "                labels = labels.cuda()\n",
    "                smashed_data = client.forward(images, client_level=client_level)\n",
    "                output = server.forward(smashed_data, server_level=server_level)\n",
    "                clients_opts[idx].zero_grad()\n",
    "                server_opt.zero_grad()\n",
    "                loss = criterion(output, labels)\n",
    "                loss.backward()\n",
    "                clients_opts[idx].step()\n",
    "                server_opt.step()\n",
    "            # weight sharing\n",
    "            last_trained_params = client.state_dict()\n",
    "            # attack part\n",
    "            if idx in mal_client_id :\n",
    "                benign_params = list(client.parameters())[:2]\n",
    "                mal_params = perturbation(beta=beta, bp=benign_params, type=att_type)\n",
    "                last_trained_params['conv1.0.weight'] = mal_params[0]\n",
    "                last_trained_params['conv1.0.bias'] = mal_params[1]\n",
    "    for i in range(NC):\n",
    "        clients[i].load_state_dict(last_trained_params)\n",
    "\n",
    "    # test\n",
    "    server.eval()\n",
    "    for i in range(NC):\n",
    "        clients[i].eval()\n",
    "    with torch.no_grad():\n",
    "        for idx, client in enumerate(clients):\n",
    "            correct = 0\n",
    "            total = 0\n",
    "            acc1 = 0\n",
    "            for data in clients_testloader[idx]:\n",
    "                images, labels = data\n",
    "                images, labels = images.cuda(), labels.cuda()\n",
    "\n",
    "                smashed_data = client.forward(images, client_level=client_level)\n",
    "                output = server.forward(smashed_data, server_level=server_level)\n",
    "                _, pre = torch.max(output.data, 1)\n",
    "                total += images.shape[0]\n",
    "                correct += (pre == labels).sum().item()\n",
    "            acc1 = 100 * correct / total\n",
    "            clients_acc1.append(acc1)\n",
    "            drop = acc0 - acc1\n",
    "            clients_drop.append(drop)\n",
    "    acc1 = np.mean(clients_acc1)\n",
    "    acc1_varying.append(acc1)\n",
    "    drop = np.mean(clients_drop)\n",
    "    drop_varying.append(drop)"
   ],
   "metadata": {
    "collapsed": false
   }
  },
  {
   "cell_type": "code",
   "execution_count": 9,
   "outputs": [
    {
     "name": "stdout",
     "output_type": "stream",
     "text": [
      "[95.02149829483055, 93.30244539415409, 93.53357198033936, 93.57710632243429, 86.23616965654071]\n",
      "[0.4585017051694507, 2.177554605845912, 1.9464280196606463, 1.9028936775657104, 9.243830343459312]\n"
     ]
    }
   ],
   "source": [
    "print(acc1_varying)\n",
    "print(drop_varying)"
   ],
   "metadata": {
    "collapsed": false
   }
  },
  {
   "cell_type": "code",
   "execution_count": 10,
   "outputs": [
    {
     "name": "stdout",
     "output_type": "stream",
     "text": [
      "acc1:\n",
      "93.47104123230925\n",
      "0.2746609282801984\n",
      "---------------------\n",
      "drop:\n",
      "2.0089587676907565\n",
      "0.2746609282802015\n"
     ]
    }
   ],
   "source": [
    "acc1_mean, acc1_range = data_process(acc1_varying)\n",
    "print('acc1:')\n",
    "print(acc1_mean)\n",
    "print(acc1_range)\n",
    "print('---------------------')\n",
    "drop_mean, drop_range = data_process(drop_varying)\n",
    "print('drop:')\n",
    "print(drop_mean)\n",
    "print(drop_range)"
   ],
   "metadata": {
    "collapsed": false
   }
  },
  {
   "cell_type": "markdown",
   "source": [
    "--------------------------------------------------------\n",
    "## with fisher"
   ],
   "metadata": {
    "collapsed": false
   }
  },
  {
   "cell_type": "code",
   "execution_count": 12,
   "outputs": [],
   "source": [
    "weight_positions = []\n",
    "bias_positions = []\n",
    "weight_positions.append(find_positions(fisher_matrix['conv1.0.weight'], 0.333))\n",
    "bias_positions.append(find_positions(fisher_matrix['conv1.0.bias'], 0.333))"
   ],
   "metadata": {
    "collapsed": false
   }
  },
  {
   "cell_type": "code",
   "execution_count": 13,
   "outputs": [
    {
     "data": {
      "text/plain": "Training:   0%|          | 0/5 [00:00<?, ?iter/s]",
      "application/vnd.jupyter.widget-view+json": {
       "version_major": 2,
       "version_minor": 0,
       "model_id": "a1f3528f8f7c473bb696309157dcf5f7"
      }
     },
     "metadata": {},
     "output_type": "display_data"
    },
    {
     "name": "stdout",
     "output_type": "stream",
     "text": [
      "Using downloaded and verified file: data/train_32x32.mat\n",
      "Using downloaded and verified file: data/test_32x32.mat\n",
      "Using downloaded and verified file: data/train_32x32.mat\n",
      "Using downloaded and verified file: data/test_32x32.mat\n",
      "Using downloaded and verified file: data/train_32x32.mat\n",
      "Using downloaded and verified file: data/test_32x32.mat\n",
      "Using downloaded and verified file: data/train_32x32.mat\n",
      "Using downloaded and verified file: data/test_32x32.mat\n",
      "Using downloaded and verified file: data/train_32x32.mat\n",
      "Using downloaded and verified file: data/test_32x32.mat\n"
     ]
    }
   ],
   "source": [
    "acc0 = 95.48\n",
    "att_type = 'unit'\n",
    "acc1_varying = []\n",
    "drop_varying = []\n",
    "clients_acc1 = []\n",
    "clients_drop = []\n",
    "iters = 5\n",
    "\n",
    "\n",
    "for iter in tqdm(range(iters), desc=\"Training\", unit=\"iter\"):\n",
    "    batch_size = 600\n",
    "    epochs = 30\n",
    "    NC = 10\n",
    "    dataset = 'svhn'\n",
    "\n",
    "    clients_trainloader = load_clients_trainsets(dataset, NC, batch_size)\n",
    "    clients_testloader = load_clients_testsets(dataset, NC, batch_size)\n",
    "\n",
    "    server, server_opt, clients, clients_opts = set_model_and_opt(dataset, NC)\n",
    "    client_level = 1\n",
    "    server_level = 6\n",
    "\n",
    "    criterion = torch.nn.CrossEntropyLoss()\n",
    "    # train\n",
    "    mal_client_id = [8]\n",
    "    server.train()\n",
    "    for i in range(NC):\n",
    "        clients[i].train()\n",
    "    server.apply(init_weights)\n",
    "    clients[0].apply(init_weights)\n",
    "    last_trained_params = clients[0].state_dict()\n",
    "    for epoch in range(epochs):\n",
    "        beta = beta_mean\n",
    "        for idx, client in enumerate(clients):\n",
    "            client.load_state_dict(last_trained_params)\n",
    "            for j, data in enumerate(clients_trainloader[idx]):\n",
    "                # training part\n",
    "                images, labels = data\n",
    "                images = images.cuda()\n",
    "                labels = labels.cuda()\n",
    "                smashed_data = client.forward(images, client_level=client_level)\n",
    "                output = server.forward(smashed_data, server_level=server_level)\n",
    "                clients_opts[idx].zero_grad()\n",
    "                server_opt.zero_grad()\n",
    "                loss = criterion(output, labels)\n",
    "                loss.backward()\n",
    "                clients_opts[idx].step()\n",
    "                server_opt.step()\n",
    "            # weight sharing\n",
    "            last_trained_params = client.state_dict()\n",
    "            # attack part\n",
    "            if idx in mal_client_id :\n",
    "                benign_params = list(client.parameters())[:2]\n",
    "                mal_params = fisher_perturbation(client_level, beta, benign_params, weight_positions, bias_positions, type=att_type)\n",
    "                last_trained_params['conv1.0.weight'] = mal_params[0]\n",
    "                last_trained_params['conv1.0.bias'] = mal_params[1]\n",
    "    for i in range(NC):\n",
    "        clients[i].load_state_dict(last_trained_params)\n",
    "\n",
    "    # test\n",
    "    server.eval()\n",
    "    for i in range(NC):\n",
    "        clients[i].eval()\n",
    "    with torch.no_grad():\n",
    "        for idx, client in enumerate(clients):\n",
    "            correct = 0\n",
    "            total = 0\n",
    "            acc1 = 0\n",
    "            for data in clients_testloader[idx]:\n",
    "                images, labels = data\n",
    "                images, labels = images.cuda(), labels.cuda()\n",
    "\n",
    "                smashed_data = client.forward(images, client_level=client_level)\n",
    "                output = server.forward(smashed_data, server_level=server_level)\n",
    "                _, pre = torch.max(output.data, 1)\n",
    "                total += images.shape[0]\n",
    "                correct += (pre == labels).sum().item()\n",
    "            acc1 = 100 * correct / total\n",
    "            clients_acc1.append(acc1)\n",
    "            drop = acc0 - acc1\n",
    "            clients_drop.append(drop)\n",
    "    acc1 = np.mean(clients_acc1)\n",
    "    acc1_varying.append(acc1)\n",
    "    drop = np.mean(clients_drop)\n",
    "    drop_varying.append(drop)"
   ],
   "metadata": {
    "collapsed": false
   }
  },
  {
   "cell_type": "markdown",
   "source": [],
   "metadata": {
    "collapsed": false
   }
  },
  {
   "cell_type": "code",
   "execution_count": 15,
   "outputs": [
    {
     "name": "stdout",
     "output_type": "stream",
     "text": [
      "[7.655968860224496, 51.065995722765834, 65.41051189704108, 72.8689652964528, 77.18730750823373]\n",
      "[87.82403113977551, 44.41400427723418, 30.069488102958918, 22.611034703547194, 18.29269249176627]\n"
     ]
    }
   ],
   "source": [
    "print(acc1_varying)\n",
    "print(drop_varying)"
   ],
   "metadata": {
    "collapsed": false
   }
  },
  {
   "cell_type": "code",
   "execution_count": 16,
   "outputs": [
    {
     "name": "stdout",
     "output_type": "stream",
     "text": [
      "acc1:\n",
      "58.238253809903455\n",
      "14.344516174275242\n",
      "---------------------\n",
      "drop:\n",
      "37.24174619009655\n",
      "14.34451617427526\n"
     ]
    }
   ],
   "source": [
    "acc1_mean, acc1_range = data_process(acc1_varying)\n",
    "print('acc1:')\n",
    "print(acc1_mean)\n",
    "print(acc1_range)\n",
    "print('---------------------')\n",
    "drop_mean, drop_range = data_process(drop_varying)\n",
    "print('drop:')\n",
    "print(drop_mean)\n",
    "print(drop_range)"
   ],
   "metadata": {
    "collapsed": false
   }
  },
  {
   "cell_type": "code",
   "execution_count": null,
   "outputs": [],
   "source": [],
   "metadata": {
    "collapsed": false
   }
  },
  {
   "cell_type": "code",
   "execution_count": null,
   "outputs": [],
   "source": [],
   "metadata": {
    "collapsed": false
   }
  }
 ],
 "metadata": {
  "kernelspec": {
   "display_name": "Python 3",
   "language": "python",
   "name": "python3"
  },
  "language_info": {
   "codemirror_mode": {
    "name": "ipython",
    "version": 2
   },
   "file_extension": ".py",
   "mimetype": "text/x-python",
   "name": "python",
   "nbconvert_exporter": "python",
   "pygments_lexer": "ipython2",
   "version": "2.7.6"
  }
 },
 "nbformat": 4,
 "nbformat_minor": 0
}
