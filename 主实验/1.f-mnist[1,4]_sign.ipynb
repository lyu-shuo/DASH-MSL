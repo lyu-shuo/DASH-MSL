{
 "cells": [
  {
   "cell_type": "markdown",
   "source": [
    "## sign attack\n",
    "dataset = f-mnist\n",
    "beta = [0,2]    alpha = 0.333\n",
    "init_beta = 1\n",
    "beta_mean = 0.84\n",
    "\n",
    "without Taylor : acc0 = 89.45   acc1 = 80.97   drop = 8.47\n",
    "                 acc : 89.45 -> 80.97\n",
    "with Taylor : acc0 = 89.45  acc1 = 78.97   drop = 10.47\n",
    "                 acc : 89.45 -> 78.97"
   ],
   "metadata": {
    "collapsed": false
   }
  },
  {
   "cell_type": "code",
   "execution_count": 1,
   "outputs": [],
   "source": [
    "import matplotlib.pyplot as plt\n",
    "import torch\n",
    "import torch.nn as nn\n",
    "import torch.optim as optim\n",
    "import sys\n",
    "import numpy as np\n",
    "import pickle\n",
    "\n",
    "sys.path.append('D:\\\\Program\\\\MyCode\\\\Round_robin_SL\\\\Round-Robin')\n",
    "from models import *\n",
    "from clients_datasets import *\n",
    "from tqdm.notebook import tqdm\n",
    "from utils import *\n",
    "from AttFunc import *\n",
    "from Fisher_LeNet import *"
   ],
   "metadata": {
    "collapsed": false
   }
  },
  {
   "cell_type": "code",
   "execution_count": 2,
   "outputs": [],
   "source": [
    "batch_size = 600\n",
    "epochs = 30\n",
    "NC = 10\n",
    "dataset = 'f_mnist'\n",
    "\n",
    "clients_trainloader = load_clients_trainsets(dataset, NC, batch_size)\n",
    "clients_testloader = load_clients_testsets(dataset, NC, batch_size)\n",
    "\n",
    "server, server_opt, clients, clients_opts = set_model_and_opt(dataset, NC)\n",
    "client_level = 1\n",
    "server_level = 4\n",
    "\n",
    "criterion = torch.nn.CrossEntropyLoss()"
   ],
   "metadata": {
    "collapsed": false
   }
  },
  {
   "cell_type": "code",
   "execution_count": 3,
   "outputs": [
    {
     "data": {
      "text/plain": "Training attack model:   0%|          | 0/100 [00:00<?, ?eopch/s]",
      "application/vnd.jupyter.widget-view+json": {
       "version_major": 2,
       "version_minor": 0,
       "model_id": "ca8c61f5ce684409a899c6c253e4192a"
      }
     },
     "metadata": {},
     "output_type": "display_data"
    },
    {
     "name": "stdout",
     "output_type": "stream",
     "text": [
      "1.0467836823804724\n",
      "0.08458342800387122\n",
      "1.1175458479376439\n",
      "1.3875065778168967\n",
      "0.6938391789992915\n",
      "1.150833706736988\n",
      "0.15032132140057988\n",
      "1.597458521490729\n",
      "0.7877264273104584\n",
      "0.48416394947426167\n"
     ]
    }
   ],
   "source": [
    "am = LeNet_5().cuda()\n",
    "am_train(am, clients_trainloader[8], dataset)\n",
    "\n",
    "att_type = 'sign'\n",
    "acc0 = 89.45\n",
    "betas = []\n",
    "\n",
    "for i in range(10):\n",
    "    beta = simulated_annealing(dataset, 1, 500, att_type, acc0,  clients_testloader[8])\n",
    "    betas.append(beta)\n",
    "    print(beta)"
   ],
   "metadata": {
    "collapsed": false
   }
  },
  {
   "cell_type": "code",
   "execution_count": 4,
   "outputs": [
    {
     "name": "stdout",
     "output_type": "stream",
     "text": [
      "0.8427830962300741\n"
     ]
    }
   ],
   "source": [
    "beta_mean, beta_range = data_process(betas)\n",
    "print(beta_mean)"
   ],
   "metadata": {
    "collapsed": false
   }
  },
  {
   "cell_type": "markdown",
   "source": [
    "## WITHOUT Taylor"
   ],
   "metadata": {
    "collapsed": false
   }
  },
  {
   "cell_type": "code",
   "execution_count": 9,
   "outputs": [
    {
     "data": {
      "text/plain": "Training:   0%|          | 0/5 [00:00<?, ?iter/s]",
      "application/vnd.jupyter.widget-view+json": {
       "version_major": 2,
       "version_minor": 0,
       "model_id": "14106ea04fdd487cae39bdefd7bdd100"
      }
     },
     "metadata": {},
     "output_type": "display_data"
    }
   ],
   "source": [
    "acc0 = 89.45\n",
    "att_type = 'sign'\n",
    "acc1_varying = []\n",
    "drop_varying = []\n",
    "clients_acc1 = []\n",
    "clients_drop = []\n",
    "iters = 5\n",
    "\n",
    "\n",
    "for iter in tqdm(range(iters), desc=\"Training\", unit=\"iter\"):\n",
    "    batch_size = 600\n",
    "    epochs = 30\n",
    "    NC = 10\n",
    "    dataset = 'f_mnist'\n",
    "\n",
    "    clients_trainloader = load_clients_trainsets(dataset, NC, batch_size)\n",
    "    clients_testloader = load_clients_testsets(dataset, NC, batch_size)\n",
    "\n",
    "    server, server_opt, clients, clients_opts = set_model_and_opt(dataset, NC)\n",
    "    client_level = 1\n",
    "    server_level = 4\n",
    "\n",
    "    criterion = torch.nn.CrossEntropyLoss()\n",
    "    # train\n",
    "    mal_client_id = [8]\n",
    "    server.train()\n",
    "    for i in range(NC):\n",
    "        clients[i].train()\n",
    "    server.apply(init_weights)\n",
    "    clients[0].apply(init_weights)\n",
    "    last_trained_params = clients[0].state_dict()\n",
    "    for epoch in range(epochs):\n",
    "        beta = beta_mean\n",
    "        for idx, client in enumerate(clients):\n",
    "            client.load_state_dict(last_trained_params)\n",
    "            for j, data in enumerate(clients_trainloader[idx]):\n",
    "                # training part\n",
    "                images, labels = data\n",
    "                images = images.cuda()\n",
    "                labels = labels.cuda()\n",
    "                smashed_data = client.forward(images, client_level=client_level)\n",
    "                output = server.forward(smashed_data, server_level=server_level)\n",
    "                clients_opts[idx].zero_grad()\n",
    "                server_opt.zero_grad()\n",
    "                loss = criterion(output, labels)\n",
    "                loss.backward()\n",
    "                clients_opts[idx].step()\n",
    "                server_opt.step()\n",
    "            # weight sharing\n",
    "            last_trained_params = client.state_dict()\n",
    "            # attack part\n",
    "            if idx in mal_client_id :\n",
    "                benign_params = list(client.parameters())[:2]\n",
    "                mal_params = perturbation(beta=beta, bp=benign_params, type=att_type)\n",
    "                last_trained_params['conv1.0.weight'] = mal_params[0]\n",
    "                last_trained_params['conv1.0.bias'] = mal_params[1]\n",
    "    for i in range(NC):\n",
    "        clients[i].load_state_dict(last_trained_params)\n",
    "\n",
    "    # test\n",
    "    server.eval()\n",
    "    for i in range(NC):\n",
    "        clients[i].eval()\n",
    "    with torch.no_grad():\n",
    "        for idx, client in enumerate(clients):\n",
    "            correct = 0\n",
    "            total = 0\n",
    "            acc1 = 0\n",
    "            for data in clients_testloader[idx]:\n",
    "                images, labels = data\n",
    "                images, labels = images.cuda(), labels.cuda()\n",
    "\n",
    "                smashed_data = client.forward(images, client_level=client_level)\n",
    "                output = server.forward(smashed_data, server_level=server_level)\n",
    "                _, pre = torch.max(output.data, 1)\n",
    "                total += images.shape[0]\n",
    "                correct += (pre == labels).sum().item()\n",
    "            acc1 = 100 * correct / total\n",
    "            clients_acc1.append(acc1)\n",
    "            drop = acc0 - acc1\n",
    "            clients_drop.append(drop)\n",
    "    acc1 = np.mean(clients_acc1)\n",
    "    acc1_varying.append(acc1)\n",
    "    drop = np.mean(clients_drop)\n",
    "    drop_varying.append(drop)"
   ],
   "metadata": {
    "collapsed": false
   }
  },
  {
   "cell_type": "code",
   "execution_count": 10,
   "outputs": [
    {
     "name": "stdout",
     "output_type": "stream",
     "text": [
      "[78.1, 81.535, 78.87999999999998, 80.675, 80.36399999999999]\n",
      "[11.350000000000003, 7.915000000000004, 10.570000000000002, 8.775000000000002, 9.086000000000002]\n"
     ]
    }
   ],
   "source": [
    "print(acc1_varying)\n",
    "print(drop_varying)"
   ],
   "metadata": {
    "collapsed": false
   }
  },
  {
   "cell_type": "code",
   "execution_count": 11,
   "outputs": [
    {
     "name": "stdout",
     "output_type": "stream",
     "text": [
      "acc1:\n",
      "80.36399999999999\n",
      "0.0\n",
      "---------------------\n",
      "drop:\n",
      "9.086000000000002\n",
      "0.0\n"
     ]
    }
   ],
   "source": [
    "acc1_mean, acc1_range = data_process(acc1_varying)\n",
    "print('acc1:')\n",
    "print(acc1_mean)\n",
    "print(acc1_range)\n",
    "print('---------------------')\n",
    "drop_mean, drop_range = data_process(drop_varying)\n",
    "print('drop:')\n",
    "print(drop_mean)\n",
    "print(drop_range)"
   ],
   "metadata": {
    "collapsed": false
   }
  },
  {
   "cell_type": "markdown",
   "source": [
    "## WITH Taylor"
   ],
   "metadata": {
    "collapsed": false
   }
  },
  {
   "cell_type": "code",
   "execution_count": 5,
   "outputs": [
    {
     "data": {
      "text/plain": "Training:   0%|          | 0/5 [00:00<?, ?iter/s]",
      "application/vnd.jupyter.widget-view+json": {
       "version_major": 2,
       "version_minor": 0,
       "model_id": "b514627331ab497d9dd06ac2c628a9d6"
      }
     },
     "metadata": {},
     "output_type": "display_data"
    }
   ],
   "source": [
    "acc0 = 89.45\n",
    "att_type = 'sign'\n",
    "acc1_varying = []\n",
    "drop_varying = []\n",
    "clients_acc1 = []\n",
    "clients_drop = []\n",
    "iters = 5\n",
    "\n",
    "for iter in tqdm(range(iters), desc=\"Training\", unit=\"iter\"):\n",
    "    batch_size = 600\n",
    "    epochs = 30\n",
    "    NC = 10\n",
    "    dataset = 'f_mnist'\n",
    "\n",
    "    clients_trainloader = load_clients_trainsets(dataset, NC, batch_size)\n",
    "    clients_testloader = load_clients_testsets(dataset, NC, batch_size)\n",
    "\n",
    "    server, server_opt, clients, clients_opts = set_model_and_opt(dataset, NC)\n",
    "    client_level = 1\n",
    "    server_level = 4\n",
    "\n",
    "    criterion = torch.nn.CrossEntropyLoss()\n",
    "    # train\n",
    "    mal_client_id = [8]\n",
    "    server.train()\n",
    "    for i in range(NC):\n",
    "        clients[i].train()\n",
    "    server.apply(init_weights)\n",
    "    clients[0].apply(init_weights)\n",
    "    last_trained_params = clients[0].state_dict()\n",
    "    for epoch in range(epochs):\n",
    "        beta = beta_mean\n",
    "        for idx, client in enumerate(clients):\n",
    "            client.load_state_dict(last_trained_params)\n",
    "            for j, data in enumerate(clients_trainloader[idx]):\n",
    "                # training part\n",
    "                images, labels = data\n",
    "                images = images.cuda()\n",
    "                labels = labels.cuda()\n",
    "                smashed_data = client.forward(images, client_level=client_level)\n",
    "                output = server.forward(smashed_data, server_level=server_level)\n",
    "                clients_opts[idx].zero_grad()\n",
    "                server_opt.zero_grad()\n",
    "                loss = criterion(output, labels)\n",
    "                loss.backward()\n",
    "                clients_opts[idx].step()\n",
    "                server_opt.step()\n",
    "            # weight sharing\n",
    "            last_trained_params = client.state_dict()\n",
    "            # attack part\n",
    "            if idx in mal_client_id:\n",
    "                benign_params = list(client.parameters())[:2]\n",
    "\n",
    "                # Taylor 重要性评分计算\n",
    "                Taylor_scores = {}\n",
    "                for param_name, param in client.named_parameters():\n",
    "                    if param.grad is not None:\n",
    "                        Taylor_scores[param_name] = torch.abs(param * param.grad)\n",
    "\n",
    "                weight_positions = []\n",
    "                bias_positions = []\n",
    "                weight_positions.append(find_positions(Taylor_scores['conv1.0.weight'].cpu().detach().numpy(), 0.333))\n",
    "                bias_positions.append(find_positions(Taylor_scores['conv1.0.bias'].cpu().detach().numpy(), 0.333))\n",
    "\n",
    "                mal_params = fisher_perturbation(client_level, beta, benign_params, weight_positions, bias_positions, type=att_type)\n",
    "                last_trained_params['conv1.0.weight'] = mal_params[0]\n",
    "                last_trained_params['conv1.0.bias'] = mal_params[1]\n",
    "    for i in range(NC):\n",
    "        clients[i].load_state_dict(last_trained_params)\n",
    "\n",
    "    # test\n",
    "    server.eval()\n",
    "    for i in range(NC):\n",
    "        clients[i].eval()\n",
    "    with torch.no_grad():\n",
    "        for idx, client in enumerate(clients):\n",
    "            correct = 0\n",
    "            total = 0\n",
    "            acc1 = 0\n",
    "            for data in clients_testloader[idx]:\n",
    "                images, labels = data\n",
    "                images, labels = images.cuda(), labels.cuda()\n",
    "\n",
    "                smashed_data = client.forward(images, client_level=client_level)\n",
    "                output = server.forward(smashed_data, server_level=server_level)\n",
    "                _, pre = torch.max(output.data, 1)\n",
    "                total += images.shape[0]\n",
    "                correct += (pre == labels).sum().item()\n",
    "            acc1 = 100 * correct / total\n",
    "            clients_acc1.append(acc1)\n",
    "            drop = acc0 - acc1\n",
    "            clients_drop.append(drop)\n",
    "    acc1 = np.mean(clients_acc1)\n",
    "    acc1_varying.append(acc1)\n",
    "    drop = np.mean(clients_drop)\n",
    "    drop_varying.append(drop)"
   ],
   "metadata": {
    "collapsed": false
   }
  },
  {
   "cell_type": "code",
   "execution_count": 6,
   "outputs": [
    {
     "name": "stdout",
     "output_type": "stream",
     "text": [
      "[81.25999999999999, 78.94500000000001, 78.16, 79.0625, 78.91799999999999]\n",
      "[8.190000000000005, 10.505000000000003, 11.290000000000001, 10.387500000000003, 10.532000000000004]\n"
     ]
    }
   ],
   "source": [
    "print(acc1_varying)\n",
    "print(drop_varying)"
   ],
   "metadata": {
    "collapsed": false
   }
  },
  {
   "cell_type": "code",
   "execution_count": 7,
   "outputs": [
    {
     "name": "stdout",
     "output_type": "stream",
     "text": [
      "acc1:\n",
      "78.97516666666667\n",
      "0.14450000000000784\n",
      "---------------------\n",
      "drop:\n",
      "10.474833333333336\n",
      "0.14450000000000074\n"
     ]
    }
   ],
   "source": [
    "acc1_mean, acc1_range = data_process(acc1_varying)\n",
    "print('acc1:')\n",
    "print(acc1_mean)\n",
    "print(acc1_range)\n",
    "print('---------------------')\n",
    "drop_mean, drop_range = data_process(drop_varying)\n",
    "print('drop:')\n",
    "print(drop_mean)\n",
    "print(drop_range)"
   ],
   "metadata": {
    "collapsed": false
   }
  },
  {
   "cell_type": "code",
   "execution_count": 7,
   "outputs": [],
   "source": [],
   "metadata": {
    "collapsed": false
   }
  }
 ],
 "metadata": {
  "kernelspec": {
   "display_name": "Python 3",
   "language": "python",
   "name": "python3"
  },
  "language_info": {
   "codemirror_mode": {
    "name": "ipython",
    "version": 2
   },
   "file_extension": ".py",
   "mimetype": "text/x-python",
   "name": "python",
   "nbconvert_exporter": "python",
   "pygments_lexer": "ipython2",
   "version": "2.7.6"
  }
 },
 "nbformat": 4,
 "nbformat_minor": 0
}
