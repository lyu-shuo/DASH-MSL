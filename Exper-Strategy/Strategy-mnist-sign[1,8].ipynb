{
 "cells": [
  {
   "cell_type": "code",
   "execution_count": 1,
   "metadata": {
    "collapsed": true
   },
   "outputs": [],
   "source": [
    "import matplotlib.pyplot as plt\n",
    "import torch\n",
    "import torch.nn as nn\n",
    "import torch.optim as optim\n",
    "import sys\n",
    "import numpy as np\n",
    "import pickle\n",
    "\n",
    "sys.path.append('D:\\\\Program\\\\MyCode\\\\Round_robin_SL\\\\Round-Robin')\n",
    "from models import *\n",
    "from clients_datasets import *\n",
    "from tqdm.notebook import tqdm\n",
    "from utils import *\n",
    "from AttFunc import *\n",
    "from Fisher_LeNet import *"
   ]
  },
  {
   "cell_type": "code",
   "execution_count": 2,
   "outputs": [],
   "source": [
    "batch_size = 600\n",
    "epochs = 30\n",
    "NC = 10\n",
    "dataset = 'mnist'\n",
    "\n",
    "clients_trainloader = load_clients_trainsets(dataset, NC, batch_size)\n",
    "clients_testloader = load_clients_testsets(dataset, NC, batch_size)\n",
    "\n",
    "server, server_opt, clients, clients_opts = set_model_and_opt(dataset, NC)\n",
    "client_level = 1\n",
    "server_level = 4\n",
    "\n",
    "criterion = torch.nn.CrossEntropyLoss()"
   ],
   "metadata": {
    "collapsed": false
   }
  },
  {
   "cell_type": "code",
   "execution_count": 4,
   "outputs": [
    {
     "data": {
      "text/plain": "Training attack model:   0%|          | 0/100 [00:00<?, ?eopch/s]",
      "application/vnd.jupyter.widget-view+json": {
       "version_major": 2,
       "version_minor": 0,
       "model_id": "ce7dfcbeb5e34b099a77628046bf164b"
      }
     },
     "metadata": {},
     "output_type": "display_data"
    },
    {
     "name": "stdout",
     "output_type": "stream",
     "text": [
      "1.6033343319422335\n",
      "0.8984379430700768\n",
      "0.6489215875125363\n",
      "0.13638588251555966\n",
      "1.9087231477871658\n",
      "1.001303111118921\n",
      "0.23507146453330807\n",
      "0.1472451276877559\n",
      "0.701792094154666\n",
      "0.7410011327428012\n",
      "-------------------------------------\n",
      "0.7982911737198002\n"
     ]
    }
   ],
   "source": [
    "am = LeNet_5().cuda()\n",
    "am_train(am, clients_trainloader[8], dataset)\n",
    "\n",
    "att_type = 'sign'\n",
    "acc0 = 98.88\n",
    "betas = []\n",
    "\n",
    "for i in range(10):\n",
    "    beta = simulated_annealing(dataset, 1, 500, att_type, acc0, clients_testloader[8])\n",
    "    betas.append(beta)\n",
    "    print(beta)\n",
    "beta_mean, beta_range = data_process(betas)\n",
    "print('-------------------------------------')\n",
    "print(beta_mean)"
   ],
   "metadata": {
    "collapsed": false
   }
  },
  {
   "cell_type": "code",
   "execution_count": 5,
   "outputs": [
    {
     "data": {
      "text/plain": "Training:   0%|          | 0/10 [00:00<?, ?iter/s]",
      "application/vnd.jupyter.widget-view+json": {
       "version_major": 2,
       "version_minor": 0,
       "model_id": "3fd27ecf80b74456a594469c1f5aba76"
      }
     },
     "metadata": {},
     "output_type": "display_data"
    }
   ],
   "source": [
    "acc0 = 98.88\n",
    "att_type = 'sign'\n",
    "acc1_varying = []\n",
    "drop_varying = []\n",
    "clients_acc1 = []\n",
    "clients_drop = []\n",
    "iters = 10\n",
    "mode = 'Basic'\n",
    "\n",
    "\n",
    "for iter in tqdm(range(iters), desc=\"Training\", unit=\"iter\"):\n",
    "    batch_size = 600\n",
    "    epochs = 30\n",
    "    NC = 10\n",
    "    dataset = 'mnist'\n",
    "\n",
    "    clients_trainloader = load_clients_trainsets(dataset, NC, batch_size)\n",
    "    clients_testloader = load_clients_testsets(dataset, NC, batch_size)\n",
    "\n",
    "    server, server_opt, clients, clients_opts = set_model_and_opt(dataset, NC)\n",
    "    client_level = 1\n",
    "    server_level = 4\n",
    "\n",
    "    criterion = torch.nn.CrossEntropyLoss()\n",
    "    # train\n",
    "    mal_client_id = [1,8]\n",
    "    server.train()\n",
    "    for i in range(NC):\n",
    "        clients[i].train()\n",
    "    server.apply(init_weights)\n",
    "    clients[0].apply(init_weights)\n",
    "    last_trained_params = clients[0].state_dict()\n",
    "    for epoch in range(epochs):\n",
    "        beta = beta_mean\n",
    "        for idx, client in enumerate(clients):\n",
    "            client.load_state_dict(last_trained_params)\n",
    "            for j, data in enumerate(clients_trainloader[idx]):\n",
    "                # training part\n",
    "                images, labels = data\n",
    "                images = images.cuda()\n",
    "                labels = labels.cuda()\n",
    "                smashed_data = client.forward(images, client_level=client_level)\n",
    "                output = server.forward(smashed_data, server_level=server_level)\n",
    "                clients_opts[idx].zero_grad()\n",
    "                server_opt.zero_grad()\n",
    "                loss = criterion(output, labels)\n",
    "                loss.backward()\n",
    "                clients_opts[idx].step()\n",
    "                server_opt.step()\n",
    "            # weight sharing\n",
    "            last_trained_params = client.state_dict()\n",
    "            # attack part\n",
    "            if idx in mal_client_id:\n",
    "                benign_params = list(client.parameters())[:2]\n",
    "                mal_params = perturbation(beta=beta, bp=benign_params, type=att_type)\n",
    "                last_trained_params['conv1.0.weight'] = mal_params[0]\n",
    "                last_trained_params['conv1.0.bias'] = mal_params[1]\n",
    "    for i in range(NC):\n",
    "        clients[i].load_state_dict(last_trained_params)\n",
    "\n",
    "    # test\n",
    "    server.eval()\n",
    "    for i in range(NC):\n",
    "        clients[i].eval()\n",
    "    with torch.no_grad():\n",
    "        for idx, client in enumerate(clients):\n",
    "            correct = 0\n",
    "            total = 0\n",
    "            acc1 = 0\n",
    "            for data in clients_testloader[idx]:\n",
    "                images, labels = data\n",
    "                images, labels = images.cuda(), labels.cuda()\n",
    "\n",
    "                smashed_data = client.forward(images, client_level=client_level)\n",
    "                output = server.forward(smashed_data, server_level=server_level)\n",
    "                _, pre = torch.max(output.data, 1)\n",
    "                total += images.shape[0]\n",
    "                correct += (pre == labels).sum().item()\n",
    "            acc1 = 100 * correct / total\n",
    "            clients_acc1.append(acc1)\n",
    "            drop = acc0 - acc1\n",
    "            clients_drop.append(drop)\n",
    "    acc1 = np.mean(clients_acc1)\n",
    "    acc1_varying.append(acc1)\n",
    "    drop = np.mean(clients_drop)\n",
    "    drop_varying.append(drop)"
   ],
   "metadata": {
    "collapsed": false
   }
  },
  {
   "cell_type": "code",
   "execution_count": 6,
   "outputs": [
    {
     "name": "stdout",
     "output_type": "stream",
     "text": [
      "[97.12000000000002, 96.885, 96.71666666666667, 96.6725, 96.698, 96.71666666666668, 96.68142857142858, 96.67875000000001, 96.59555555555558, 96.56400000000002]\n",
      "[1.7599999999999951, 1.9949999999999946, 2.1633333333333282, 2.207499999999995, 2.1819999999999955, 2.1633333333333287, 2.1985714285714244, 2.201249999999996, 2.28444444444444, 2.315999999999996]\n"
     ]
    }
   ],
   "source": [
    "print(acc1_varying)\n",
    "print(drop_varying)"
   ],
   "metadata": {
    "collapsed": false
   }
  },
  {
   "cell_type": "code",
   "execution_count": 7,
   "outputs": [
    {
     "name": "stdout",
     "output_type": "stream",
     "text": [
      "acc1:\n",
      "96.69400198412698\n",
      "0.04416666666668334\n",
      "---------------------\n",
      "drop:\n",
      "2.1859980158730115\n",
      "0.04416666666666691\n"
     ]
    }
   ],
   "source": [
    "acc1_mean, acc1_range = data_process(acc1_varying)\n",
    "print('acc1:')\n",
    "print(acc1_mean)\n",
    "print(acc1_range)\n",
    "print('---------------------')\n",
    "drop_mean, drop_range = data_process(drop_varying)\n",
    "print('drop:')\n",
    "print(drop_mean)\n",
    "print(drop_range)"
   ],
   "metadata": {
    "collapsed": false
   }
  },
  {
   "cell_type": "code",
   "execution_count": 8,
   "outputs": [
    {
     "data": {
      "text/plain": "Training:   0%|          | 0/10 [00:00<?, ?iter/s]",
      "application/vnd.jupyter.widget-view+json": {
       "version_major": 2,
       "version_minor": 0,
       "model_id": "003d26d2d38d49bc8e17f6962c500ca2"
      }
     },
     "metadata": {},
     "output_type": "display_data"
    }
   ],
   "source": [
    "acc0 = 98.88\n",
    "att_type = 'sign'\n",
    "acc1_varying = []\n",
    "drop_varying = []\n",
    "clients_acc1 = []\n",
    "clients_drop = []\n",
    "iters = 10\n",
    "mode = 'Fisehr'\n",
    "\n",
    "\n",
    "for iter in tqdm(range(iters), desc=\"Training\", unit=\"iter\"):\n",
    "    batch_size = 600\n",
    "    epochs = 30\n",
    "    NC = 10\n",
    "    dataset = 'mnist'\n",
    "\n",
    "    clients_trainloader = load_clients_trainsets(dataset, NC, batch_size)\n",
    "    clients_testloader = load_clients_testsets(dataset, NC, batch_size)\n",
    "\n",
    "    server, server_opt, clients, clients_opts = set_model_and_opt(dataset, NC)\n",
    "    client_level = 1\n",
    "    server_level = 4\n",
    "\n",
    "    criterion = torch.nn.CrossEntropyLoss()\n",
    "    # train\n",
    "    mal_client_id = [1,8]\n",
    "    server.train()\n",
    "    for i in range(NC):\n",
    "        clients[i].train()\n",
    "    server.apply(init_weights)\n",
    "    clients[0].apply(init_weights)\n",
    "    last_trained_params = clients[0].state_dict()\n",
    "    for epoch in range(epochs):\n",
    "        beta = beta_mean\n",
    "        for idx, client in enumerate(clients):\n",
    "            client.load_state_dict(last_trained_params)\n",
    "            for j, data in enumerate(clients_trainloader[idx]):\n",
    "                # training part\n",
    "                images, labels = data\n",
    "                images = images.cuda()\n",
    "                labels = labels.cuda()\n",
    "                smashed_data = client.forward(images, client_level=client_level)\n",
    "                output = server.forward(smashed_data, server_level=server_level)\n",
    "                clients_opts[idx].zero_grad()\n",
    "                server_opt.zero_grad()\n",
    "                loss = criterion(output, labels)\n",
    "                loss.backward()\n",
    "                clients_opts[idx].step()\n",
    "                server_opt.step()\n",
    "            # weight sharing\n",
    "            last_trained_params = client.state_dict()\n",
    "            # attack part\n",
    "            if idx in mal_client_id :\n",
    "                benign_params = list(client.parameters())[:2]\n",
    "\n",
    "                fisher_matrix = {}\n",
    "                for param_name, param in client.named_parameters():\n",
    "                    if param_name == 'conv1.0.weight':\n",
    "                        grad = param.grad.cpu().detach().numpy()\n",
    "                        if param_name not in fisher_matrix:\n",
    "                            fisher_matrix[param_name] = grad ** 2\n",
    "                        else:\n",
    "                            fisher_matrix[param_name] += grad ** 2\n",
    "                    if param_name == 'conv1.0.bias':\n",
    "                        grad = param.grad.cpu().detach().numpy()\n",
    "                        if param_name not in fisher_matrix:\n",
    "                            fisher_matrix[param_name] = grad ** 2\n",
    "                        else:\n",
    "                            fisher_matrix[param_name] += grad ** 2\n",
    "                weight_positions = []\n",
    "                bias_positions = []\n",
    "                weight_positions.append(find_positions(fisher_matrix['conv1.0.weight'], 0.15))\n",
    "                bias_positions.append(find_positions(fisher_matrix['conv1.0.bias'], 0.15))\n",
    "\n",
    "                mal_params = fisher_perturbation(client_level, beta, benign_params, weight_positions, bias_positions, type=att_type)\n",
    "                last_trained_params['conv1.0.weight'] = mal_params[0]\n",
    "                last_trained_params['conv1.0.bias'] = mal_params[1]\n",
    "    for i in range(NC):\n",
    "        clients[i].load_state_dict(last_trained_params)\n",
    "\n",
    "    # test\n",
    "    server.eval()\n",
    "    for i in range(NC):\n",
    "        clients[i].eval()\n",
    "    with torch.no_grad():\n",
    "        for idx, client in enumerate(clients):\n",
    "            correct = 0\n",
    "            total = 0\n",
    "            acc1 = 0\n",
    "            for data in clients_testloader[idx]:\n",
    "                images, labels = data\n",
    "                images, labels = images.cuda(), labels.cuda()\n",
    "\n",
    "                smashed_data = client.forward(images, client_level=client_level)\n",
    "                output = server.forward(smashed_data, server_level=server_level)\n",
    "                _, pre = torch.max(output.data, 1)\n",
    "                total += images.shape[0]\n",
    "                correct += (pre == labels).sum().item()\n",
    "            acc1 = 100 * correct / total\n",
    "            clients_acc1.append(acc1)\n",
    "            drop = acc0 - acc1\n",
    "            clients_drop.append(drop)\n",
    "    acc1 = np.mean(clients_acc1)\n",
    "    acc1_varying.append(acc1)\n",
    "    drop = np.mean(clients_drop)\n",
    "    drop_varying.append(drop)"
   ],
   "metadata": {
    "collapsed": false
   }
  },
  {
   "cell_type": "code",
   "execution_count": 9,
   "outputs": [
    {
     "name": "stdout",
     "output_type": "stream",
     "text": [
      "[94.43000000000002, 91.86999999999999, 92.82333333333332, 91.7375, 90.64600000000002, 91.26833333333335, 90.52999999999999, 90.70125, 91.1122222222222, 90.748]\n",
      "[4.449999999999994, 7.009999999999995, 6.056666666666662, 7.142499999999996, 8.233999999999995, 7.611666666666662, 8.349999999999994, 8.178749999999996, 7.767777777777773, 8.131999999999994]\n"
     ]
    }
   ],
   "source": [
    "print(acc1_varying)\n",
    "print(drop_varying)"
   ],
   "metadata": {
    "collapsed": false
   }
  },
  {
   "cell_type": "code",
   "execution_count": 10,
   "outputs": [
    {
     "name": "stdout",
     "output_type": "stream",
     "text": [
      "acc1:\n",
      "91.49701388888889\n",
      "0.7577777777777897\n",
      "---------------------\n",
      "drop:\n",
      "7.382986111111107\n",
      "0.7577777777777772\n"
     ]
    }
   ],
   "source": [
    "acc1_mean, acc1_range = data_process(acc1_varying)\n",
    "print('acc1:')\n",
    "print(acc1_mean)\n",
    "print(acc1_range)\n",
    "print('---------------------')\n",
    "drop_mean, drop_range = data_process(drop_varying)\n",
    "print('drop:')\n",
    "print(drop_mean)\n",
    "print(drop_range)"
   ],
   "metadata": {
    "collapsed": false
   }
  },
  {
   "cell_type": "code",
   "execution_count": 14,
   "outputs": [
    {
     "data": {
      "text/plain": "Training:   0%|          | 0/10 [00:00<?, ?iter/s]",
      "application/vnd.jupyter.widget-view+json": {
       "version_major": 2,
       "version_minor": 0,
       "model_id": "d0c3e3262af346bd94f1ba6c5231e7a9"
      }
     },
     "metadata": {},
     "output_type": "display_data"
    }
   ],
   "source": [
    "acc0 = 98.88\n",
    "att_type = 'unit'\n",
    "acc1_varying = []\n",
    "drop_varying = []\n",
    "clients_acc1 = []\n",
    "clients_drop = []\n",
    "iters = 10\n",
    "mode = 'Taylor'\n",
    "\n",
    "\n",
    "for iter in tqdm(range(iters), desc=\"Training\", unit=\"iter\"):\n",
    "    batch_size = 600\n",
    "    epochs = 30\n",
    "    NC = 10\n",
    "    dataset = 'mnist'\n",
    "\n",
    "    clients_trainloader = load_clients_trainsets(dataset, NC, batch_size)\n",
    "    clients_testloader = load_clients_testsets(dataset, NC, batch_size)\n",
    "\n",
    "    server, server_opt, clients, clients_opts = set_model_and_opt(dataset, NC)\n",
    "    client_level = 1\n",
    "    server_level = 4\n",
    "\n",
    "    criterion = torch.nn.CrossEntropyLoss()\n",
    "    # train\n",
    "    mal_client_id = [1,8]\n",
    "    server.train()\n",
    "    for i in range(NC):\n",
    "        clients[i].train()\n",
    "    server.apply(init_weights)\n",
    "    clients[0].apply(init_weights)\n",
    "    last_trained_params = clients[0].state_dict()\n",
    "    for epoch in range(epochs):\n",
    "        beta = beta_mean\n",
    "        for idx, client in enumerate(clients):\n",
    "            client.load_state_dict(last_trained_params)\n",
    "            for j, data in enumerate(clients_trainloader[idx]):\n",
    "                # training part\n",
    "                images, labels = data\n",
    "                images = images.cuda()\n",
    "                labels = labels.cuda()\n",
    "                smashed_data = client.forward(images, client_level=client_level)\n",
    "                output = server.forward(smashed_data, server_level=server_level)\n",
    "                clients_opts[idx].zero_grad()\n",
    "                server_opt.zero_grad()\n",
    "                loss = criterion(output, labels)\n",
    "                loss.backward()\n",
    "                clients_opts[idx].step()\n",
    "                server_opt.step()\n",
    "            # weight sharing\n",
    "            last_trained_params = client.state_dict()\n",
    "            # attack part\n",
    "            if idx in mal_client_id:\n",
    "                benign_params = list(client.parameters())[:2]\n",
    "\n",
    "                Taylor_scores = {}\n",
    "                for param_name, param in client.named_parameters():\n",
    "                    if param.grad is not None:\n",
    "                        Taylor_scores[param_name] = torch.abs(param * param.grad)\n",
    "\n",
    "                weight_positions = []\n",
    "                bias_positions = []\n",
    "                weight_positions.append(find_positions(Taylor_scores['conv1.0.weight'].cpu().detach().numpy(), 0.15))\n",
    "                bias_positions.append(find_positions(Taylor_scores['conv1.0.bias'].cpu().detach().numpy(), 0.15))\n",
    "\n",
    "                mal_params = fisher_perturbation(client_level, beta, benign_params, weight_positions, bias_positions, type=att_type)\n",
    "                last_trained_params['conv1.0.weight'] = mal_params[0]\n",
    "                last_trained_params['conv1.0.bias'] = mal_params[1]\n",
    "    for i in range(NC):\n",
    "        clients[i].load_state_dict(last_trained_params)\n",
    "\n",
    "    # test\n",
    "    server.eval()\n",
    "    for i in range(NC):\n",
    "        clients[i].eval()\n",
    "    with torch.no_grad():\n",
    "        for idx, client in enumerate(clients):\n",
    "            correct = 0\n",
    "            total = 0\n",
    "            acc1 = 0\n",
    "            for data in clients_testloader[idx]:\n",
    "                images, labels = data\n",
    "                images, labels = images.cuda(), labels.cuda()\n",
    "\n",
    "                smashed_data = client.forward(images, client_level=client_level)\n",
    "                output = server.forward(smashed_data, server_level=server_level)\n",
    "                _, pre = torch.max(output.data, 1)\n",
    "                total += images.shape[0]\n",
    "                correct += (pre == labels).sum().item()\n",
    "            acc1 = 100 * correct / total\n",
    "            clients_acc1.append(acc1)\n",
    "            drop = acc0 - acc1\n",
    "            clients_drop.append(drop)\n",
    "    acc1 = np.mean(clients_acc1)\n",
    "    acc1_varying.append(acc1)\n",
    "    drop = np.mean(clients_drop)\n",
    "    drop_varying.append(drop)"
   ],
   "metadata": {
    "collapsed": false
   }
  },
  {
   "cell_type": "code",
   "execution_count": 15,
   "outputs": [
    {
     "name": "stdout",
     "output_type": "stream",
     "text": [
      "[95.8, 94.48499999999999, 94.40666666666665, 94.93, 95.19999999999999, 94.58333333333333, 94.80714285714286, 95.095, 95.33222222222224, 95.42200000000001]\n",
      "[3.079999999999997, 4.394999999999997, 4.473333333333329, 3.9499999999999957, 3.6799999999999966, 4.296666666666662, 4.0728571428571385, 3.7849999999999953, 3.547777777777774, 3.4579999999999957]\n"
     ]
    }
   ],
   "source": [
    "print(acc1_varying)\n",
    "print(drop_varying)"
   ],
   "metadata": {
    "collapsed": false
   }
  },
  {
   "cell_type": "code",
   "execution_count": 16,
   "outputs": [
    {
     "name": "stdout",
     "output_type": "stream",
     "text": [
      "acc1:\n",
      "95.00803571428571\n",
      "0.3928571428571246\n",
      "---------------------\n",
      "drop:\n",
      "3.8719642857142813\n",
      "0.3928571428571419\n"
     ]
    }
   ],
   "source": [
    "acc1_mean, acc1_range = data_process(acc1_varying)\n",
    "print('acc1:')\n",
    "print(acc1_mean)\n",
    "print(acc1_range)\n",
    "print('---------------------')\n",
    "drop_mean, drop_range = data_process(drop_varying)\n",
    "print('drop:')\n",
    "print(drop_mean)\n",
    "print(drop_range)"
   ],
   "metadata": {
    "collapsed": false
   }
  },
  {
   "cell_type": "code",
   "execution_count": null,
   "outputs": [],
   "source": [],
   "metadata": {
    "collapsed": false
   }
  }
 ],
 "metadata": {
  "kernelspec": {
   "display_name": "Python 3",
   "language": "python",
   "name": "python3"
  },
  "language_info": {
   "codemirror_mode": {
    "name": "ipython",
    "version": 2
   },
   "file_extension": ".py",
   "mimetype": "text/x-python",
   "name": "python",
   "nbconvert_exporter": "python",
   "pygments_lexer": "ipython2",
   "version": "2.7.6"
  }
 },
 "nbformat": 4,
 "nbformat_minor": 0
}
