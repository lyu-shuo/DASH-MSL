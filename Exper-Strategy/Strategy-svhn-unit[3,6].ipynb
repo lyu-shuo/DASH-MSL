{
 "cells": [
  {
   "cell_type": "code",
   "execution_count": 2,
   "metadata": {
    "collapsed": true
   },
   "outputs": [],
   "source": [
    "import matplotlib.pyplot as plt\n",
    "import torch\n",
    "import torch.nn as nn\n",
    "import torch.optim as optim\n",
    "import sys\n",
    "import numpy as np\n",
    "import pickle\n",
    "\n",
    "sys.path.append('D:\\\\Program\\\\MyCode\\\\Round_robin_SL\\\\Round-Robin')\n",
    "from models import *\n",
    "from clients_datasets import *\n",
    "from tqdm.notebook import tqdm\n",
    "from utils import *\n",
    "from AttFunc import *\n",
    "from Fisher_LeNet import *"
   ]
  },
  {
   "cell_type": "code",
   "execution_count": 2,
   "outputs": [
    {
     "name": "stdout",
     "output_type": "stream",
     "text": [
      "Using downloaded and verified file: data/train_32x32.mat\n",
      "Using downloaded and verified file: data/test_32x32.mat\n"
     ]
    }
   ],
   "source": [
    "batch_size = 600\n",
    "epochs = 30\n",
    "NC = 10\n",
    "dataset = 'svhn'\n",
    "\n",
    "clients_trainloader = load_clients_trainsets(dataset, NC, batch_size)\n",
    "clients_testloader = load_clients_testsets(dataset, NC, batch_size)\n",
    "\n",
    "server, server_opt, clients, clients_opts = set_model_and_opt(dataset, NC)\n",
    "client_level = 1\n",
    "server_level = 6\n",
    "\n",
    "criterion = torch.nn.CrossEntropyLoss()"
   ],
   "metadata": {
    "collapsed": false
   }
  },
  {
   "cell_type": "code",
   "execution_count": 3,
   "outputs": [
    {
     "name": "stdout",
     "output_type": "stream",
     "text": [
      "1.7984340630558375\n",
      "1.810358605994696\n",
      "0.24921175591575484\n",
      "2.0\n",
      "0.7158779340290633\n",
      "0.8515051817473478\n",
      "0.8584296785302926\n",
      "2.0\n",
      "1.5004971458689895\n",
      "1.114763631439426\n",
      "------------------------------------\n",
      "1.3076303886542078\n"
     ]
    }
   ],
   "source": [
    "am = ResNet_9().cuda()\n",
    "\n",
    "att_type = 'unit'\n",
    "acc0 = 95.48\n",
    "betas = []\n",
    "\n",
    "for i in range(10):\n",
    "    beta = simulated_annealing(dataset, 1, 500, att_type, acc0,  clients_testloader[8])\n",
    "    betas.append(beta)\n",
    "    print(beta)\n",
    "\n",
    "beta_mean, beta_range = data_process(betas)\n",
    "print('------------------------------------')\n",
    "print(beta_mean)"
   ],
   "metadata": {
    "collapsed": false
   }
  },
  {
   "cell_type": "code",
   "execution_count": 4,
   "outputs": [],
   "source": [
    "mal_client_id = [3,6]"
   ],
   "metadata": {
    "collapsed": false
   }
  },
  {
   "cell_type": "code",
   "execution_count": 5,
   "outputs": [
    {
     "data": {
      "text/plain": "Training:   0%|          | 0/10 [00:00<?, ?iter/s]",
      "application/vnd.jupyter.widget-view+json": {
       "version_major": 2,
       "version_minor": 0,
       "model_id": "464fb9fd628b4adf9081d928779d7498"
      }
     },
     "metadata": {},
     "output_type": "display_data"
    },
    {
     "name": "stdout",
     "output_type": "stream",
     "text": [
      "Using downloaded and verified file: data/train_32x32.mat\n",
      "Using downloaded and verified file: data/test_32x32.mat\n",
      "Using downloaded and verified file: data/train_32x32.mat\n",
      "Using downloaded and verified file: data/test_32x32.mat\n",
      "Using downloaded and verified file: data/train_32x32.mat\n",
      "Using downloaded and verified file: data/test_32x32.mat\n",
      "Using downloaded and verified file: data/train_32x32.mat\n",
      "Using downloaded and verified file: data/test_32x32.mat\n",
      "Using downloaded and verified file: data/train_32x32.mat\n",
      "Using downloaded and verified file: data/test_32x32.mat\n",
      "Using downloaded and verified file: data/train_32x32.mat\n",
      "Using downloaded and verified file: data/test_32x32.mat\n",
      "Using downloaded and verified file: data/train_32x32.mat\n",
      "Using downloaded and verified file: data/test_32x32.mat\n",
      "Using downloaded and verified file: data/train_32x32.mat\n",
      "Using downloaded and verified file: data/test_32x32.mat\n",
      "Using downloaded and verified file: data/train_32x32.mat\n",
      "Using downloaded and verified file: data/test_32x32.mat\n",
      "Using downloaded and verified file: data/train_32x32.mat\n",
      "Using downloaded and verified file: data/test_32x32.mat\n"
     ]
    }
   ],
   "source": [
    "acc0 = 95.48\n",
    "att_type = 'unit'\n",
    "acc1_varying = []\n",
    "drop_varying = []\n",
    "clients_acc1 = []\n",
    "clients_drop = []\n",
    "iters = 10\n",
    "mode = 'Basic'\n",
    "\n",
    "\n",
    "for iter in tqdm(range(iters), desc=\"Training\", unit=\"iter\"):\n",
    "    batch_size = 600\n",
    "    epochs = 30\n",
    "    NC = 10\n",
    "    dataset = 'svhn'\n",
    "\n",
    "    clients_trainloader = load_clients_trainsets(dataset, NC, batch_size)\n",
    "    clients_testloader = load_clients_testsets(dataset, NC, batch_size)\n",
    "\n",
    "    server, server_opt, clients, clients_opts = set_model_and_opt(dataset, NC)\n",
    "    client_level = 1\n",
    "    server_level = 6\n",
    "\n",
    "    criterion = torch.nn.CrossEntropyLoss()\n",
    "    # train\n",
    "    server.train()\n",
    "    for i in range(NC):\n",
    "        clients[i].train()\n",
    "    server.apply(init_weights)\n",
    "    clients[0].apply(init_weights)\n",
    "    last_trained_params = clients[0].state_dict()\n",
    "    for epoch in range(epochs):\n",
    "        beta = beta_mean\n",
    "        for idx, client in enumerate(clients):\n",
    "            client.load_state_dict(last_trained_params)\n",
    "            for j, data in enumerate(clients_trainloader[idx]):\n",
    "                # training part\n",
    "                images, labels = data\n",
    "                images = images.cuda()\n",
    "                labels = labels.cuda()\n",
    "                smashed_data = client.forward(images, client_level=client_level)\n",
    "                output = server.forward(smashed_data, server_level=server_level)\n",
    "                clients_opts[idx].zero_grad()\n",
    "                server_opt.zero_grad()\n",
    "                loss = criterion(output, labels)\n",
    "                loss.backward()\n",
    "                clients_opts[idx].step()\n",
    "                server_opt.step()\n",
    "            # weight sharing\n",
    "            last_trained_params = client.state_dict()\n",
    "            # attack part\n",
    "            if idx in mal_client_id:\n",
    "                benign_params = list(client.parameters())[:2]\n",
    "                mal_params = perturbation(beta=beta, bp=benign_params, type=att_type)\n",
    "                last_trained_params['conv1.0.weight'] = mal_params[0]\n",
    "                last_trained_params['conv1.0.bias'] = mal_params[1]\n",
    "    for i in range(NC):\n",
    "        clients[i].load_state_dict(last_trained_params)\n",
    "\n",
    "    # test\n",
    "    server.eval()\n",
    "    for i in range(NC):\n",
    "        clients[i].eval()\n",
    "    with torch.no_grad():\n",
    "        for idx, client in enumerate(clients):\n",
    "            correct = 0\n",
    "            total = 0\n",
    "            acc1 = 0\n",
    "            for data in clients_testloader[idx]:\n",
    "                images, labels = data\n",
    "                images, labels = images.cuda(), labels.cuda()\n",
    "\n",
    "                smashed_data = client.forward(images, client_level=client_level)\n",
    "                output = server.forward(smashed_data, server_level=server_level)\n",
    "                _, pre = torch.max(output.data, 1)\n",
    "                total += images.shape[0]\n",
    "                correct += (pre == labels).sum().item()\n",
    "            acc1 = 100 * correct / total\n",
    "            clients_acc1.append(acc1)\n",
    "            drop = acc0 - acc1\n",
    "            clients_drop.append(drop)\n",
    "    acc1 = np.mean(clients_acc1)\n",
    "    acc1_varying.append(acc1)\n",
    "    drop = np.mean(clients_drop)\n",
    "    drop_varying.append(drop)"
   ],
   "metadata": {
    "collapsed": false
   }
  },
  {
   "cell_type": "code",
   "execution_count": 6,
   "outputs": [
    {
     "name": "stdout",
     "output_type": "stream",
     "text": [
      "[93.25827076521065, 90.92458748708361, 92.62186547130722, 92.75119788227337, 92.88565509606367, 93.31205412282767, 93.69235890358276, 93.96126109658417, 94.17296675485119, 94.36038619034046]\n",
      "[2.221729234789355, 4.555412512916389, 2.8581345286928213, 2.7288021177266257, 2.5943449039363227, 2.167945877172333, 1.7876410964172553, 1.5187389034158312, 1.3070332451488231, 1.1196138096595427]\n",
      "-----------------------------\n",
      "acc1:\n",
      "93.05179446659383\n",
      "0.5608562405543012\n",
      "-----------------------------\n",
      "drop:\n",
      "2.428205533406159\n",
      "0.5608562405542927\n"
     ]
    }
   ],
   "source": [
    "print(acc1_varying)\n",
    "print(drop_varying)\n",
    "print('-----------------------------')\n",
    "acc1_mean, acc1_range = data_process(acc1_varying)\n",
    "print('acc1:')\n",
    "print(acc1_mean)\n",
    "print(acc1_range)\n",
    "print('-----------------------------')\n",
    "drop_mean, drop_range = data_process(drop_varying)\n",
    "print('drop:')\n",
    "print(drop_mean)\n",
    "print(drop_range)"
   ],
   "metadata": {
    "collapsed": false
   }
  },
  {
   "cell_type": "code",
   "execution_count": 7,
   "outputs": [
    {
     "data": {
      "text/plain": "Training:   0%|          | 0/10 [00:00<?, ?iter/s]",
      "application/vnd.jupyter.widget-view+json": {
       "version_major": 2,
       "version_minor": 0,
       "model_id": "e64e5fec193d4f6690f58d0845d2ecf2"
      }
     },
     "metadata": {},
     "output_type": "display_data"
    },
    {
     "name": "stdout",
     "output_type": "stream",
     "text": [
      "Using downloaded and verified file: data/train_32x32.mat\n",
      "Using downloaded and verified file: data/test_32x32.mat\n",
      "Using downloaded and verified file: data/train_32x32.mat\n",
      "Using downloaded and verified file: data/test_32x32.mat\n",
      "Using downloaded and verified file: data/train_32x32.mat\n",
      "Using downloaded and verified file: data/test_32x32.mat\n",
      "Using downloaded and verified file: data/train_32x32.mat\n",
      "Using downloaded and verified file: data/test_32x32.mat\n",
      "Using downloaded and verified file: data/train_32x32.mat\n",
      "Using downloaded and verified file: data/test_32x32.mat\n",
      "Using downloaded and verified file: data/train_32x32.mat\n",
      "Using downloaded and verified file: data/test_32x32.mat\n",
      "Using downloaded and verified file: data/train_32x32.mat\n",
      "Using downloaded and verified file: data/test_32x32.mat\n",
      "Using downloaded and verified file: data/train_32x32.mat\n",
      "Using downloaded and verified file: data/test_32x32.mat\n",
      "Using downloaded and verified file: data/train_32x32.mat\n",
      "Using downloaded and verified file: data/test_32x32.mat\n",
      "Using downloaded and verified file: data/train_32x32.mat\n",
      "Using downloaded and verified file: data/test_32x32.mat\n"
     ]
    }
   ],
   "source": [
    "acc0 = 95.48\n",
    "att_type = 'unit'\n",
    "acc1_varying = []\n",
    "drop_varying = []\n",
    "clients_acc1 = []\n",
    "clients_drop = []\n",
    "iters = 10\n",
    "mode = 'Fisher'\n",
    "\n",
    "\n",
    "for iter in tqdm(range(iters), desc=\"Training\", unit=\"iter\"):\n",
    "    batch_size = 600\n",
    "    epochs = 30\n",
    "    NC = 10\n",
    "    dataset = 'svhn'\n",
    "\n",
    "    clients_trainloader = load_clients_trainsets(dataset, NC, batch_size)\n",
    "    clients_testloader = load_clients_testsets(dataset, NC, batch_size)\n",
    "\n",
    "    server, server_opt, clients, clients_opts = set_model_and_opt(dataset, NC)\n",
    "    client_level = 1\n",
    "    server_level = 6\n",
    "\n",
    "    criterion = torch.nn.CrossEntropyLoss()\n",
    "    # train\n",
    "    server.train()\n",
    "    for i in range(NC):\n",
    "        clients[i].train()\n",
    "    server.apply(init_weights)\n",
    "    clients[0].apply(init_weights)\n",
    "    last_trained_params = clients[0].state_dict()\n",
    "    for epoch in range(epochs):\n",
    "        beta = beta_mean\n",
    "        for idx, client in enumerate(clients):\n",
    "            client.load_state_dict(last_trained_params)\n",
    "            for j, data in enumerate(clients_trainloader[idx]):\n",
    "                # training part\n",
    "                images, labels = data\n",
    "                images = images.cuda()\n",
    "                labels = labels.cuda()\n",
    "                smashed_data = client.forward(images, client_level=client_level)\n",
    "                output = server.forward(smashed_data, server_level=server_level)\n",
    "                clients_opts[idx].zero_grad()\n",
    "                server_opt.zero_grad()\n",
    "                loss = criterion(output, labels)\n",
    "                loss.backward()\n",
    "                clients_opts[idx].step()\n",
    "                server_opt.step()\n",
    "            # weight sharing\n",
    "            last_trained_params = client.state_dict()\n",
    "            # attack part\n",
    "            if idx in mal_client_id :\n",
    "                benign_params = list(client.parameters())[:2]\n",
    "\n",
    "                fisher_matrix = {}\n",
    "                for param_name, param in client.named_parameters():\n",
    "                    if param_name == 'conv1.0.weight':\n",
    "                        grad = param.grad.cpu().detach().numpy()\n",
    "                        if param_name not in fisher_matrix:\n",
    "                            fisher_matrix[param_name] = grad ** 2\n",
    "                        else:\n",
    "                            fisher_matrix[param_name] += grad ** 2\n",
    "                    if param_name == 'conv1.0.bias':\n",
    "                        grad = param.grad.cpu().detach().numpy()\n",
    "                        if param_name not in fisher_matrix:\n",
    "                            fisher_matrix[param_name] = grad ** 2\n",
    "                        else:\n",
    "                            fisher_matrix[param_name] += grad ** 2\n",
    "                weight_positions = []\n",
    "                bias_positions = []\n",
    "                weight_positions.append(find_positions(fisher_matrix['conv1.0.weight'], 0.15))\n",
    "                bias_positions.append(find_positions(fisher_matrix['conv1.0.bias'], 0.15))\n",
    "\n",
    "                mal_params = fisher_perturbation(client_level, beta, benign_params, weight_positions, bias_positions, type=att_type)\n",
    "                last_trained_params['conv1.0.weight'] = mal_params[0]\n",
    "                last_trained_params['conv1.0.bias'] = mal_params[1]\n",
    "    for i in range(NC):\n",
    "        clients[i].load_state_dict(last_trained_params)\n",
    "\n",
    "    # test\n",
    "    server.eval()\n",
    "    for i in range(NC):\n",
    "        clients[i].eval()\n",
    "    with torch.no_grad():\n",
    "        for idx, client in enumerate(clients):\n",
    "            correct = 0\n",
    "            total = 0\n",
    "            acc1 = 0\n",
    "            for data in clients_testloader[idx]:\n",
    "                images, labels = data\n",
    "                images, labels = images.cuda(), labels.cuda()\n",
    "\n",
    "                smashed_data = client.forward(images, client_level=client_level)\n",
    "                output = server.forward(smashed_data, server_level=server_level)\n",
    "                _, pre = torch.max(output.data, 1)\n",
    "                total += images.shape[0]\n",
    "                correct += (pre == labels).sum().item()\n",
    "            acc1 = 100 * correct / total\n",
    "            clients_acc1.append(acc1)\n",
    "            drop = acc0 - acc1\n",
    "            clients_drop.append(drop)\n",
    "    acc1 = np.mean(clients_acc1)\n",
    "    acc1_varying.append(acc1)\n",
    "    drop = np.mean(clients_drop)\n",
    "    drop_varying.append(drop)"
   ],
   "metadata": {
    "collapsed": false
   }
  },
  {
   "cell_type": "code",
   "execution_count": 8,
   "outputs": [
    {
     "name": "stdout",
     "output_type": "stream",
     "text": [
      "[95.50936736708738, 95.32882565490722, 94.86401576108864, 94.93220188450877, 95.10218594520207, 94.8211231811575, 94.81901716853943, 94.93508170001174, 94.98950132834115, 94.56054059684176]\n",
      "[-0.02936736708736447, 0.15117434509278027, 0.6159842389113858, 0.5477981154912275, 0.37781405479793506, 0.6588768188424946, 0.6609828314605714, 0.54491829998826, 0.4904986716588749, 0.9194594031582407]\n",
      "-----------------------------\n",
      "acc1:\n",
      "94.96459732383047\n",
      "0.23817018411342872\n",
      "-----------------------------\n",
      "drop:\n",
      "0.5154026761695366\n",
      "0.2381701841134507\n"
     ]
    }
   ],
   "source": [
    "print(acc1_varying)\n",
    "print(drop_varying)\n",
    "print('-----------------------------')\n",
    "acc1_mean, acc1_range = data_process(acc1_varying)\n",
    "print('acc1:')\n",
    "print(acc1_mean)\n",
    "print(acc1_range)\n",
    "print('-----------------------------')\n",
    "drop_mean, drop_range = data_process(drop_varying)\n",
    "print('drop:')\n",
    "print(drop_mean)\n",
    "print(drop_range)"
   ],
   "metadata": {
    "collapsed": false
   }
  },
  {
   "cell_type": "code",
   "execution_count": 9,
   "outputs": [
    {
     "data": {
      "text/plain": "Training:   0%|          | 0/10 [00:00<?, ?iter/s]",
      "application/vnd.jupyter.widget-view+json": {
       "version_major": 2,
       "version_minor": 0,
       "model_id": "82af974d8f174bbbbc43e80676514121"
      }
     },
     "metadata": {},
     "output_type": "display_data"
    },
    {
     "name": "stdout",
     "output_type": "stream",
     "text": [
      "Using downloaded and verified file: data/train_32x32.mat\n",
      "Using downloaded and verified file: data/test_32x32.mat\n",
      "Using downloaded and verified file: data/train_32x32.mat\n",
      "Using downloaded and verified file: data/test_32x32.mat\n",
      "Using downloaded and verified file: data/train_32x32.mat\n",
      "Using downloaded and verified file: data/test_32x32.mat\n",
      "Using downloaded and verified file: data/train_32x32.mat\n",
      "Using downloaded and verified file: data/test_32x32.mat\n",
      "Using downloaded and verified file: data/train_32x32.mat\n",
      "Using downloaded and verified file: data/test_32x32.mat\n",
      "Using downloaded and verified file: data/train_32x32.mat\n",
      "Using downloaded and verified file: data/test_32x32.mat\n",
      "Using downloaded and verified file: data/train_32x32.mat\n",
      "Using downloaded and verified file: data/test_32x32.mat\n",
      "Using downloaded and verified file: data/train_32x32.mat\n",
      "Using downloaded and verified file: data/test_32x32.mat\n",
      "Using downloaded and verified file: data/train_32x32.mat\n",
      "Using downloaded and verified file: data/test_32x32.mat\n",
      "Using downloaded and verified file: data/train_32x32.mat\n",
      "Using downloaded and verified file: data/test_32x32.mat\n"
     ]
    }
   ],
   "source": [
    "acc0 = 95.48\n",
    "att_type = 'unit'\n",
    "acc1_varying = []\n",
    "drop_varying = []\n",
    "clients_acc1 = []\n",
    "clients_drop = []\n",
    "iters = 10\n",
    "mode = 'Taylor'\n",
    "\n",
    "\n",
    "for iter in tqdm(range(iters), desc=\"Training\", unit=\"iter\"):\n",
    "    batch_size = 600\n",
    "    epochs = 30\n",
    "    NC = 10\n",
    "    dataset = 'svhn'\n",
    "\n",
    "    clients_trainloader = load_clients_trainsets(dataset, NC, batch_size)\n",
    "    clients_testloader = load_clients_testsets(dataset, NC, batch_size)\n",
    "\n",
    "    server, server_opt, clients, clients_opts = set_model_and_opt(dataset, NC)\n",
    "    client_level = 1\n",
    "    server_level = 6\n",
    "\n",
    "    criterion = torch.nn.CrossEntropyLoss()\n",
    "    # train\n",
    "    server.train()\n",
    "    for i in range(NC):\n",
    "        clients[i].train()\n",
    "    server.apply(init_weights)\n",
    "    clients[0].apply(init_weights)\n",
    "    last_trained_params = clients[0].state_dict()\n",
    "    for epoch in range(epochs):\n",
    "        beta = beta_mean\n",
    "        for idx, client in enumerate(clients):\n",
    "            client.load_state_dict(last_trained_params)\n",
    "            for j, data in enumerate(clients_trainloader[idx]):\n",
    "                # training part\n",
    "                images, labels = data\n",
    "                images = images.cuda()\n",
    "                labels = labels.cuda()\n",
    "                smashed_data = client.forward(images, client_level=client_level)\n",
    "                output = server.forward(smashed_data, server_level=server_level)\n",
    "                clients_opts[idx].zero_grad()\n",
    "                server_opt.zero_grad()\n",
    "                loss = criterion(output, labels)\n",
    "                loss.backward()\n",
    "                clients_opts[idx].step()\n",
    "                server_opt.step()\n",
    "            # weight sharing\n",
    "            last_trained_params = client.state_dict()\n",
    "            # attack part\n",
    "            if idx in mal_client_id:\n",
    "                benign_params = list(client.parameters())[:2]\n",
    "\n",
    "                Taylor_scores = {}\n",
    "                for param_name, param in client.named_parameters():\n",
    "                    if param.grad is not None:\n",
    "                        Taylor_scores[param_name] = torch.abs(param * param.grad)\n",
    "\n",
    "                weight_positions = []\n",
    "                bias_positions = []\n",
    "                weight_positions.append(find_positions(Taylor_scores['conv1.0.weight'].cpu().detach().numpy(), 0.15))\n",
    "                bias_positions.append(find_positions(Taylor_scores['conv1.0.bias'].cpu().detach().numpy(), 0.15))\n",
    "\n",
    "                mal_params = fisher_perturbation(client_level, beta, benign_params, weight_positions, bias_positions, type=att_type)\n",
    "                last_trained_params['conv1.0.weight'] = mal_params[0]\n",
    "                last_trained_params['conv1.0.bias'] = mal_params[1]\n",
    "    for i in range(NC):\n",
    "        clients[i].load_state_dict(last_trained_params)\n",
    "\n",
    "    # test\n",
    "    server.eval()\n",
    "    for i in range(NC):\n",
    "        clients[i].eval()\n",
    "    with torch.no_grad():\n",
    "        for idx, client in enumerate(clients):\n",
    "            correct = 0\n",
    "            total = 0\n",
    "            acc1 = 0\n",
    "            for data in clients_testloader[idx]:\n",
    "                images, labels = data\n",
    "                images, labels = images.cuda(), labels.cuda()\n",
    "\n",
    "                smashed_data = client.forward(images, client_level=client_level)\n",
    "                output = server.forward(smashed_data, server_level=server_level)\n",
    "                _, pre = torch.max(output.data, 1)\n",
    "                total += images.shape[0]\n",
    "                correct += (pre == labels).sum().item()\n",
    "            acc1 = 100 * correct / total\n",
    "            clients_acc1.append(acc1)\n",
    "            drop = acc0 - acc1\n",
    "            clients_drop.append(drop)\n",
    "    acc1 = np.mean(clients_acc1)\n",
    "    acc1_varying.append(acc1)\n",
    "    drop = np.mean(clients_drop)\n",
    "    drop_varying.append(drop)"
   ],
   "metadata": {
    "collapsed": false
   }
  },
  {
   "cell_type": "code",
   "execution_count": 10,
   "outputs": [
    {
     "name": "stdout",
     "output_type": "stream",
     "text": [
      "[95.71296973302104, 95.17133869521933, 94.44019111037936, 94.51253258233882, 94.54057353178095, 94.75710064345387, 94.85084688579062, 94.78094296844066, 94.6198691074021, 94.34926541099628]\n",
      "[-0.2329697330210351, 0.30866130478067577, 1.0398088896206497, 0.9674674176611809, 0.939426468219057, 0.7228993565461456, 0.62915311420939, 0.6990570315593594, 0.8601308925979013, 1.1307345890037122]\n",
      "-----------------------------\n",
      "acc1:\n",
      "94.7521899012718\n",
      "0.23097777838852096\n",
      "-----------------------------\n",
      "drop:\n",
      "0.727810098728199\n",
      "0.2309777783885113\n"
     ]
    }
   ],
   "source": [
    "print(acc1_varying)\n",
    "print(drop_varying)\n",
    "print('-----------------------------')\n",
    "acc1_mean, acc1_range = data_process(acc1_varying)\n",
    "print('acc1:')\n",
    "print(acc1_mean)\n",
    "print(acc1_range)\n",
    "print('-----------------------------')\n",
    "drop_mean, drop_range = data_process(drop_varying)\n",
    "print('drop:')\n",
    "print(drop_mean)\n",
    "print(drop_range)"
   ],
   "metadata": {
    "collapsed": false
   }
  },
  {
   "cell_type": "code",
   "execution_count": null,
   "outputs": [],
   "source": [
    "# 记录原始信息\n",
    "val = {\n",
    "    'Baseline': [95.48],\n",
    "    'Basic': [93.47, 93.05, 71.26],\n",
    "    'Fisher': [58.23, 94.96, 91.18],\n",
    "    'Taylor': [92.49, 94.75, 75.16]\n",
    "}"
   ],
   "metadata": {
    "collapsed": false
   }
  },
  {
   "cell_type": "code",
   "execution_count": 3,
   "outputs": [
    {
     "data": {
      "text/plain": "<Figure size 800x600 with 1 Axes>",
      "image/png": "[encoded data removed]"
     },
     "metadata": {},
     "output_type": "display_data"
    }
   ],
   "source": [
    "x = ['Baseline', 'Strategy 1', 'Strategy 2', 'Strategy 3']\n",
    "val = {\n",
    "    'Baseline': [95.48],\n",
    "    'Basic': [93.47, 93.05, 71.26],\n",
    "    'Fisher': [58.23, 94.96, 91.18],\n",
    "    'Taylor': [92.49, 94.75, 75.16]\n",
    "}\n",
    "\n",
    "# 设置柱状图的宽度和 x 轴位置\n",
    "bar_width = 0.25\n",
    "x_positions = np.arange(len(x))\n",
    "\n",
    "# 创建图表\n",
    "fig, ax = plt.subplots(figsize=(8, 6))\n",
    "\n",
    "# Baseline的单个柱状图\n",
    "ax.bar(x_positions[0], val['Baseline'][0], width=bar_width, label='Baseline', color='cyan', edgecolor='black')\n",
    "\n",
    "# 攻击策略的柱状图颜色和样式设置\n",
    "strategies = ['Basic', 'Fisher', 'Taylor']\n",
    "colors = ['white', 'deepskyblue', 'gray']\n",
    "# colors = ['red', 'green', 'blue']\n",
    "hatches = ['//', '..', '\\\\']\n",
    "\n",
    "# 绘制每个攻击策略的柱状图\n",
    "for i, strategy in enumerate(strategies):\n",
    "    for j in range(3):  # 每个策略有三个值\n",
    "        ax.bar(\n",
    "            x_positions[j + 1] + (i - 1) * bar_width,\n",
    "            val[strategy][j],\n",
    "            width=bar_width,\n",
    "            color=colors[i],\n",
    "            edgecolor='black',\n",
    "            hatch=hatches[i],\n",
    "            label=strategy if j == 0 else \"\"  # 避免重复显示图例\n",
    "        )\n",
    "\n",
    "# 设置图例和轴标签\n",
    "plt.xticks(fontsize=19)\n",
    "plt.yticks(fontsize=20)\n",
    "plt.ylim(10, 100)\n",
    "ax.legend(fontsize=18, loc='upper center', bbox_to_anchor=(0.47, 1.15), ncol=4)\n",
    "ax.set_ylabel('Accuracy (%)', fontsize=24)\n",
    "ax.set_xticks(x_positions)\n",
    "ax.set_xticklabels(x)\n",
    "# 显示图表\n",
    "plt.grid(True, linestyle=':', linewidth=0.3, color='gray')\n",
    "plt.tight_layout()\n",
    "plt.show()"
   ],
   "metadata": {
    "collapsed": false
   }
  },
  {
   "cell_type": "code",
   "execution_count": null,
   "outputs": [],
   "source": [],
   "metadata": {
    "collapsed": false
   }
  }
 ],
 "metadata": {
  "kernelspec": {
   "display_name": "Python 3",
   "language": "python",
   "name": "python3"
  },
  "language_info": {
   "codemirror_mode": {
    "name": "ipython",
    "version": 2
   },
   "file_extension": ".py",
   "mimetype": "text/x-python",
   "name": "python",
   "nbconvert_exporter": "python",
   "pygments_lexer": "ipython2",
   "version": "2.7.6"
  }
 },
 "nbformat": 4,
 "nbformat_minor": 0
}
