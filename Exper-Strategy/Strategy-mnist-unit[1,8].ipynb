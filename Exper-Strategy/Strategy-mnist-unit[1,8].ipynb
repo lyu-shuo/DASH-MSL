{
 "cells": [
  {
   "cell_type": "code",
   "execution_count": 13,
   "metadata": {
    "collapsed": true
   },
   "outputs": [],
   "source": [
    "import matplotlib.pyplot as plt\n",
    "import torch\n",
    "import torch.nn as nn\n",
    "import torch.optim as optim\n",
    "import sys\n",
    "import numpy as np\n",
    "import pickle\n",
    "\n",
    "sys.path.append('D:\\\\Program\\\\MyCode\\\\Round_robin_SL\\\\Round-Robin')\n",
    "from models import *\n",
    "from clients_datasets import *\n",
    "from tqdm.notebook import tqdm\n",
    "from utils import *\n",
    "from AttFunc import *\n",
    "from Fisher_LeNet import *"
   ]
  },
  {
   "cell_type": "code",
   "execution_count": 14,
   "outputs": [],
   "source": [
    "batch_size = 600\n",
    "epochs = 30\n",
    "NC = 10\n",
    "dataset = 'mnist'\n",
    "\n",
    "clients_trainloader = load_clients_trainsets(dataset, NC, batch_size)\n",
    "clients_testloader = load_clients_testsets(dataset, NC, batch_size)\n",
    "\n",
    "server, server_opt, clients, clients_opts = set_model_and_opt(dataset, NC)\n",
    "client_level = 1\n",
    "server_level = 4\n",
    "\n",
    "criterion = torch.nn.CrossEntropyLoss()"
   ],
   "metadata": {
    "collapsed": false
   }
  },
  {
   "cell_type": "code",
   "execution_count": 15,
   "outputs": [
    {
     "data": {
      "text/plain": "Training attack model:   0%|          | 0/100 [00:00<?, ?eopch/s]",
      "application/vnd.jupyter.widget-view+json": {
       "version_major": 2,
       "version_minor": 0,
       "model_id": "29ee22e26f9c4286b769a68fc86c79df"
      }
     },
     "metadata": {},
     "output_type": "display_data"
    },
    {
     "name": "stdout",
     "output_type": "stream",
     "text": [
      "1.0083989367967536\n",
      "1.2508340868916399\n",
      "1.3921403994157902\n",
      "1.175553659925153\n",
      "1.1145426508745504\n",
      "0.2237515046476291\n",
      "1.6119921672387352\n",
      "1.0588731099286326\n",
      "0.13899878736462346\n",
      "1.3697442732534\n",
      "-------------------------------------\n",
      "1.121640488883346\n"
     ]
    }
   ],
   "source": [
    "am = LeNet_5().cuda()\n",
    "am_train(am, clients_trainloader[8], dataset)\n",
    "\n",
    "att_type = 'unit'\n",
    "acc0 = 98.88\n",
    "betas = []\n",
    "\n",
    "for i in range(10):\n",
    "    beta = simulated_annealing(dataset, 1, 500, att_type, acc0, clients_testloader[8])\n",
    "    betas.append(beta)\n",
    "    print(beta)\n",
    "beta_mean, beta_range = data_process(betas)\n",
    "print('-------------------------------------')\n",
    "print(beta_mean)"
   ],
   "metadata": {
    "collapsed": false
   }
  },
  {
   "cell_type": "code",
   "execution_count": 16,
   "outputs": [
    {
     "data": {
      "text/plain": "Training:   0%|          | 0/10 [00:00<?, ?iter/s]",
      "application/vnd.jupyter.widget-view+json": {
       "version_major": 2,
       "version_minor": 0,
       "model_id": "7a0abf87169844f1bb7d2a18a5b60cd4"
      }
     },
     "metadata": {},
     "output_type": "display_data"
    }
   ],
   "source": [
    "acc0 = 98.88\n",
    "att_type = 'unit'\n",
    "acc1_varying = []\n",
    "drop_varying = []\n",
    "clients_acc1 = []\n",
    "clients_drop = []\n",
    "iters = 10\n",
    "mode = 'Basic'\n",
    "\n",
    "\n",
    "for iter in tqdm(range(iters), desc=\"Training\", unit=\"iter\"):\n",
    "    batch_size = 600\n",
    "    epochs = 30\n",
    "    NC = 10\n",
    "    dataset = 'mnist'\n",
    "\n",
    "    clients_trainloader = load_clients_trainsets(dataset, NC, batch_size)\n",
    "    clients_testloader = load_clients_testsets(dataset, NC, batch_size)\n",
    "\n",
    "    server, server_opt, clients, clients_opts = set_model_and_opt(dataset, NC)\n",
    "    client_level = 1\n",
    "    server_level = 4\n",
    "\n",
    "    criterion = torch.nn.CrossEntropyLoss()\n",
    "    # train\n",
    "    mal_client_id = [1,8]\n",
    "    server.train()\n",
    "    for i in range(NC):\n",
    "        clients[i].train()\n",
    "    server.apply(init_weights)\n",
    "    clients[0].apply(init_weights)\n",
    "    last_trained_params = clients[0].state_dict()\n",
    "    for epoch in range(epochs):\n",
    "        beta = beta_mean\n",
    "        for idx, client in enumerate(clients):\n",
    "            client.load_state_dict(last_trained_params)\n",
    "            for j, data in enumerate(clients_trainloader[idx]):\n",
    "                # training part\n",
    "                images, labels = data\n",
    "                images = images.cuda()\n",
    "                labels = labels.cuda()\n",
    "                smashed_data = client.forward(images, client_level=client_level)\n",
    "                output = server.forward(smashed_data, server_level=server_level)\n",
    "                clients_opts[idx].zero_grad()\n",
    "                server_opt.zero_grad()\n",
    "                loss = criterion(output, labels)\n",
    "                loss.backward()\n",
    "                clients_opts[idx].step()\n",
    "                server_opt.step()\n",
    "            # weight sharing\n",
    "            last_trained_params = client.state_dict()\n",
    "            # attack part\n",
    "            if idx in mal_client_id:\n",
    "                benign_params = list(client.parameters())[:2]\n",
    "                mal_params = perturbation(beta=beta, bp=benign_params, type=att_type)\n",
    "                last_trained_params['conv1.0.weight'] = mal_params[0]\n",
    "                last_trained_params['conv1.0.bias'] = mal_params[1]\n",
    "    for i in range(NC):\n",
    "        clients[i].load_state_dict(last_trained_params)\n",
    "\n",
    "    # test\n",
    "    server.eval()\n",
    "    for i in range(NC):\n",
    "        clients[i].eval()\n",
    "    with torch.no_grad():\n",
    "        for idx, client in enumerate(clients):\n",
    "            correct = 0\n",
    "            total = 0\n",
    "            acc1 = 0\n",
    "            for data in clients_testloader[idx]:\n",
    "                images, labels = data\n",
    "                images, labels = images.cuda(), labels.cuda()\n",
    "\n",
    "                smashed_data = client.forward(images, client_level=client_level)\n",
    "                output = server.forward(smashed_data, server_level=server_level)\n",
    "                _, pre = torch.max(output.data, 1)\n",
    "                total += images.shape[0]\n",
    "                correct += (pre == labels).sum().item()\n",
    "            acc1 = 100 * correct / total\n",
    "            clients_acc1.append(acc1)\n",
    "            drop = acc0 - acc1\n",
    "            clients_drop.append(drop)\n",
    "    acc1 = np.mean(clients_acc1)\n",
    "    acc1_varying.append(acc1)\n",
    "    drop = np.mean(clients_drop)\n",
    "    drop_varying.append(drop)"
   ],
   "metadata": {
    "collapsed": false
   }
  },
  {
   "cell_type": "code",
   "execution_count": 17,
   "outputs": [
    {
     "name": "stdout",
     "output_type": "stream",
     "text": [
      "[97.28, 95.30000000000001, 95.64333333333333, 95.8275, 95.62, 95.91166666666666, 96.11428571428571, 96.2675, 96.36444444444443, 96.333]\n",
      "[1.5999999999999956, 3.5799999999999956, 3.236666666666663, 3.0524999999999958, 3.2599999999999962, 2.968333333333329, 2.7657142857142816, 2.612499999999996, 2.5155555555555513, 2.5469999999999957]\n"
     ]
    }
   ],
   "source": [
    "print(acc1_varying)\n",
    "print(drop_varying)"
   ],
   "metadata": {
    "collapsed": false
   }
  },
  {
   "cell_type": "code",
   "execution_count": 18,
   "outputs": [
    {
     "name": "stdout",
     "output_type": "stream",
     "text": [
      "acc1:\n",
      "96.03023809523809\n",
      "0.4399999999999977\n",
      "---------------------\n",
      "drop:\n",
      "2.8497619047619005\n",
      "0.43999999999999995\n"
     ]
    }
   ],
   "source": [
    "acc1_mean, acc1_range = data_process(acc1_varying)\n",
    "print('acc1:')\n",
    "print(acc1_mean)\n",
    "print(acc1_range)\n",
    "print('---------------------')\n",
    "drop_mean, drop_range = data_process(drop_varying)\n",
    "print('drop:')\n",
    "print(drop_mean)\n",
    "print(drop_range)"
   ],
   "metadata": {
    "collapsed": false
   }
  },
  {
   "cell_type": "code",
   "execution_count": 19,
   "outputs": [
    {
     "data": {
      "text/plain": "Training:   0%|          | 0/10 [00:00<?, ?iter/s]",
      "application/vnd.jupyter.widget-view+json": {
       "version_major": 2,
       "version_minor": 0,
       "model_id": "585f97515164498e9a51a65ec42672fa"
      }
     },
     "metadata": {},
     "output_type": "display_data"
    }
   ],
   "source": [
    "acc0 = 98.88\n",
    "att_type = 'unit'\n",
    "acc1_varying = []\n",
    "drop_varying = []\n",
    "clients_acc1 = []\n",
    "clients_drop = []\n",
    "iters = 10\n",
    "mode = 'Fisehr'\n",
    "\n",
    "\n",
    "for iter in tqdm(range(iters), desc=\"Training\", unit=\"iter\"):\n",
    "    batch_size = 600\n",
    "    epochs = 30\n",
    "    NC = 10\n",
    "    dataset = 'mnist'\n",
    "\n",
    "    clients_trainloader = load_clients_trainsets(dataset, NC, batch_size)\n",
    "    clients_testloader = load_clients_testsets(dataset, NC, batch_size)\n",
    "\n",
    "    server, server_opt, clients, clients_opts = set_model_and_opt(dataset, NC)\n",
    "    client_level = 1\n",
    "    server_level = 4\n",
    "\n",
    "    criterion = torch.nn.CrossEntropyLoss()\n",
    "    # train\n",
    "    mal_client_id = [1,8]\n",
    "    server.train()\n",
    "    for i in range(NC):\n",
    "        clients[i].train()\n",
    "    server.apply(init_weights)\n",
    "    clients[0].apply(init_weights)\n",
    "    last_trained_params = clients[0].state_dict()\n",
    "    for epoch in range(epochs):\n",
    "        beta = beta_mean\n",
    "        for idx, client in enumerate(clients):\n",
    "            client.load_state_dict(last_trained_params)\n",
    "            for j, data in enumerate(clients_trainloader[idx]):\n",
    "                # training part\n",
    "                images, labels = data\n",
    "                images = images.cuda()\n",
    "                labels = labels.cuda()\n",
    "                smashed_data = client.forward(images, client_level=client_level)\n",
    "                output = server.forward(smashed_data, server_level=server_level)\n",
    "                clients_opts[idx].zero_grad()\n",
    "                server_opt.zero_grad()\n",
    "                loss = criterion(output, labels)\n",
    "                loss.backward()\n",
    "                clients_opts[idx].step()\n",
    "                server_opt.step()\n",
    "            # weight sharing\n",
    "            last_trained_params = client.state_dict()\n",
    "            # attack part\n",
    "            if idx in mal_client_id :\n",
    "                benign_params = list(client.parameters())[:2]\n",
    "\n",
    "                fisher_matrix = {}\n",
    "                for param_name, param in client.named_parameters():\n",
    "                    if param_name == 'conv1.0.weight':\n",
    "                        grad = param.grad.cpu().detach().numpy()\n",
    "                        if param_name not in fisher_matrix:\n",
    "                            fisher_matrix[param_name] = grad ** 2\n",
    "                        else:\n",
    "                            fisher_matrix[param_name] += grad ** 2\n",
    "                    if param_name == 'conv1.0.bias':\n",
    "                        grad = param.grad.cpu().detach().numpy()\n",
    "                        if param_name not in fisher_matrix:\n",
    "                            fisher_matrix[param_name] = grad ** 2\n",
    "                        else:\n",
    "                            fisher_matrix[param_name] += grad ** 2\n",
    "                weight_positions = []\n",
    "                bias_positions = []\n",
    "                weight_positions.append(find_positions(fisher_matrix['conv1.0.weight'], 0.15))\n",
    "                bias_positions.append(find_positions(fisher_matrix['conv1.0.bias'], 0.15))\n",
    "\n",
    "                mal_params = fisher_perturbation(client_level, beta, benign_params, weight_positions, bias_positions, type=att_type)\n",
    "                last_trained_params['conv1.0.weight'] = mal_params[0]\n",
    "                last_trained_params['conv1.0.bias'] = mal_params[1]\n",
    "    for i in range(NC):\n",
    "        clients[i].load_state_dict(last_trained_params)\n",
    "\n",
    "    # test\n",
    "    server.eval()\n",
    "    for i in range(NC):\n",
    "        clients[i].eval()\n",
    "    with torch.no_grad():\n",
    "        for idx, client in enumerate(clients):\n",
    "            correct = 0\n",
    "            total = 0\n",
    "            acc1 = 0\n",
    "            for data in clients_testloader[idx]:\n",
    "                images, labels = data\n",
    "                images, labels = images.cuda(), labels.cuda()\n",
    "\n",
    "                smashed_data = client.forward(images, client_level=client_level)\n",
    "                output = server.forward(smashed_data, server_level=server_level)\n",
    "                _, pre = torch.max(output.data, 1)\n",
    "                total += images.shape[0]\n",
    "                correct += (pre == labels).sum().item()\n",
    "            acc1 = 100 * correct / total\n",
    "            clients_acc1.append(acc1)\n",
    "            drop = acc0 - acc1\n",
    "            clients_drop.append(drop)\n",
    "    acc1 = np.mean(clients_acc1)\n",
    "    acc1_varying.append(acc1)\n",
    "    drop = np.mean(clients_drop)\n",
    "    drop_varying.append(drop)"
   ],
   "metadata": {
    "collapsed": false
   }
  },
  {
   "cell_type": "code",
   "execution_count": 20,
   "outputs": [
    {
     "name": "stdout",
     "output_type": "stream",
     "text": [
      "[92.19, 89.58, 91.76, 92.85499999999999, 93.36599999999999, 93.70333333333335, 93.99000000000001, 93.57625, 93.8688888888889, 93.94500000000002]\n",
      "[6.689999999999996, 9.299999999999995, 7.119999999999996, 6.024999999999994, 5.513999999999995, 5.176666666666661, 4.889999999999994, 5.3037499999999955, 5.011111111111106, 4.934999999999996]\n"
     ]
    }
   ],
   "source": [
    "print(acc1_varying)\n",
    "print(drop_varying)"
   ],
   "metadata": {
    "collapsed": false
   }
  },
  {
   "cell_type": "code",
   "execution_count": 21,
   "outputs": [
    {
     "name": "stdout",
     "output_type": "stream",
     "text": [
      "acc1:\n",
      "93.11049999999999\n",
      "0.5109999999999957\n",
      "---------------------\n",
      "drop:\n",
      "5.7694999999999945\n",
      "0.5109999999999992\n"
     ]
    }
   ],
   "source": [
    "acc1_mean, acc1_range = data_process(acc1_varying)\n",
    "print('acc1:')\n",
    "print(acc1_mean)\n",
    "print(acc1_range)\n",
    "print('---------------------')\n",
    "drop_mean, drop_range = data_process(drop_varying)\n",
    "print('drop:')\n",
    "print(drop_mean)\n",
    "print(drop_range)"
   ],
   "metadata": {
    "collapsed": false
   }
  },
  {
   "cell_type": "code",
   "execution_count": 22,
   "outputs": [
    {
     "data": {
      "text/plain": "Training:   0%|          | 0/10 [00:00<?, ?iter/s]",
      "application/vnd.jupyter.widget-view+json": {
       "version_major": 2,
       "version_minor": 0,
       "model_id": "3f5cf07a2798489080ab08d562635c56"
      }
     },
     "metadata": {},
     "output_type": "display_data"
    }
   ],
   "source": [
    "acc0 = 98.88\n",
    "att_type = 'unit'\n",
    "acc1_varying = []\n",
    "drop_varying = []\n",
    "clients_acc1 = []\n",
    "clients_drop = []\n",
    "iters = 10\n",
    "mode = 'Taylor'\n",
    "\n",
    "\n",
    "for iter in tqdm(range(iters), desc=\"Training\", unit=\"iter\"):\n",
    "    batch_size = 600\n",
    "    epochs = 30\n",
    "    NC = 10\n",
    "    dataset = 'mnist'\n",
    "\n",
    "    clients_trainloader = load_clients_trainsets(dataset, NC, batch_size)\n",
    "    clients_testloader = load_clients_testsets(dataset, NC, batch_size)\n",
    "\n",
    "    server, server_opt, clients, clients_opts = set_model_and_opt(dataset, NC)\n",
    "    client_level = 1\n",
    "    server_level = 4\n",
    "\n",
    "    criterion = torch.nn.CrossEntropyLoss()\n",
    "    # train\n",
    "    mal_client_id = [1,8]\n",
    "    server.train()\n",
    "    for i in range(NC):\n",
    "        clients[i].train()\n",
    "    server.apply(init_weights)\n",
    "    clients[0].apply(init_weights)\n",
    "    last_trained_params = clients[0].state_dict()\n",
    "    for epoch in range(epochs):\n",
    "        beta = beta_mean\n",
    "        for idx, client in enumerate(clients):\n",
    "            client.load_state_dict(last_trained_params)\n",
    "            for j, data in enumerate(clients_trainloader[idx]):\n",
    "                # training part\n",
    "                images, labels = data\n",
    "                images = images.cuda()\n",
    "                labels = labels.cuda()\n",
    "                smashed_data = client.forward(images, client_level=client_level)\n",
    "                output = server.forward(smashed_data, server_level=server_level)\n",
    "                clients_opts[idx].zero_grad()\n",
    "                server_opt.zero_grad()\n",
    "                loss = criterion(output, labels)\n",
    "                loss.backward()\n",
    "                clients_opts[idx].step()\n",
    "                server_opt.step()\n",
    "            # weight sharing\n",
    "            last_trained_params = client.state_dict()\n",
    "            # attack part\n",
    "            if idx in mal_client_id:\n",
    "                benign_params = list(client.parameters())[:2]\n",
    "\n",
    "                Taylor_scores = {}\n",
    "                for param_name, param in client.named_parameters():\n",
    "                    if param.grad is not None:\n",
    "                        Taylor_scores[param_name] = torch.abs(param * param.grad)\n",
    "\n",
    "                weight_positions = []\n",
    "                bias_positions = []\n",
    "                weight_positions.append(find_positions(Taylor_scores['conv1.0.weight'].cpu().detach().numpy(), 0.15))\n",
    "                bias_positions.append(find_positions(Taylor_scores['conv1.0.bias'].cpu().detach().numpy(), 0.15))\n",
    "\n",
    "                mal_params = fisher_perturbation(client_level, beta, benign_params, weight_positions, bias_positions, type=att_type)\n",
    "                last_trained_params['conv1.0.weight'] = mal_params[0]\n",
    "                last_trained_params['conv1.0.bias'] = mal_params[1]\n",
    "    for i in range(NC):\n",
    "        clients[i].load_state_dict(last_trained_params)\n",
    "\n",
    "    # test\n",
    "    server.eval()\n",
    "    for i in range(NC):\n",
    "        clients[i].eval()\n",
    "    with torch.no_grad():\n",
    "        for idx, client in enumerate(clients):\n",
    "            correct = 0\n",
    "            total = 0\n",
    "            acc1 = 0\n",
    "            for data in clients_testloader[idx]:\n",
    "                images, labels = data\n",
    "                images, labels = images.cuda(), labels.cuda()\n",
    "\n",
    "                smashed_data = client.forward(images, client_level=client_level)\n",
    "                output = server.forward(smashed_data, server_level=server_level)\n",
    "                _, pre = torch.max(output.data, 1)\n",
    "                total += images.shape[0]\n",
    "                correct += (pre == labels).sum().item()\n",
    "            acc1 = 100 * correct / total\n",
    "            clients_acc1.append(acc1)\n",
    "            drop = acc0 - acc1\n",
    "            clients_drop.append(drop)\n",
    "    acc1 = np.mean(clients_acc1)\n",
    "    acc1_varying.append(acc1)\n",
    "    drop = np.mean(clients_drop)\n",
    "    drop_varying.append(drop)"
   ],
   "metadata": {
    "collapsed": false
   }
  },
  {
   "cell_type": "code",
   "execution_count": 23,
   "outputs": [
    {
     "name": "stdout",
     "output_type": "stream",
     "text": [
      "[96.77000000000001, 94.555, 91.92, 92.945, 93.668, 93.50999999999999, 93.46714285714287, 93.3875, 93.6588888888889, 93.53700000000002]\n",
      "[2.109999999999995, 4.324999999999994, 6.959999999999993, 5.934999999999993, 5.2119999999999935, 5.369999999999994, 5.4128571428571375, 5.492499999999994, 5.221111111111105, 5.342999999999994]\n"
     ]
    }
   ],
   "source": [
    "print(acc1_varying)\n",
    "print(drop_varying)"
   ],
   "metadata": {
    "collapsed": false
   }
  },
  {
   "cell_type": "code",
   "execution_count": 24,
   "outputs": [
    {
     "name": "stdout",
     "output_type": "stream",
     "text": [
      "acc1:\n",
      "93.53808862433863\n",
      "0.2805000000000035\n",
      "---------------------\n",
      "drop:\n",
      "5.341911375661371\n",
      "0.28050000000000086\n"
     ]
    }
   ],
   "source": [
    "acc1_mean, acc1_range = data_process(acc1_varying)\n",
    "print('acc1:')\n",
    "print(acc1_mean)\n",
    "print(acc1_range)\n",
    "print('---------------------')\n",
    "drop_mean, drop_range = data_process(drop_varying)\n",
    "print('drop:')\n",
    "print(drop_mean)\n",
    "print(drop_range)"
   ],
   "metadata": {
    "collapsed": false
   }
  },
  {
   "cell_type": "code",
   "execution_count": 24,
   "outputs": [],
   "source": [],
   "metadata": {
    "collapsed": false
   }
  }
 ],
 "metadata": {
  "kernelspec": {
   "display_name": "Python 3",
   "language": "python",
   "name": "python3"
  },
  "language_info": {
   "codemirror_mode": {
    "name": "ipython",
    "version": 2
   },
   "file_extension": ".py",
   "mimetype": "text/x-python",
   "name": "python",
   "nbconvert_exporter": "python",
   "pygments_lexer": "ipython2",
   "version": "2.7.6"
  }
 },
 "nbformat": 4,
 "nbformat_minor": 0
}
